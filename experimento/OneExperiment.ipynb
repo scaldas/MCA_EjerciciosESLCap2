{
 "cells": [
  {
   "cell_type": "code",
   "execution_count": 2,
   "metadata": {
    "collapsed": false
   },
   "outputs": [
    {
     "name": "stdout",
     "output_type": "stream",
     "text": [
      "Populating the interactive namespace from numpy and matplotlib\n"
     ]
    }
   ],
   "source": [
    "%pylab inline\n",
    "import scipy.stats as stats"
   ]
  },
  {
   "cell_type": "code",
   "execution_count": 3,
   "metadata": {
    "collapsed": true
   },
   "outputs": [],
   "source": [
    "num_steps = 100\n",
    "num_repetitions = 10000"
   ]
  },
  {
   "cell_type": "code",
   "execution_count": 32,
   "metadata": {
    "collapsed": false
   },
   "outputs": [
    {
     "name": "stdout",
     "output_type": "stream",
     "text": [
      "mean -0.00127848631075\n",
      "pval 0.202897743064\n",
      "t -1.27342254679\n",
      "s 0.100397649937\n",
      "SE 0.00100397649937\n"
     ]
    },
    {
     "data": {
      "image/png": "[encoded data removed]",
      "text/plain": [
       "<matplotlib.figure.Figure at 0x10abdc400>"
      ]
     },
     "metadata": {},
     "output_type": "display_data"
    }
   ],
   "source": [
    "final_positions = zeros(num_repetitions)\n",
    "mu, sigma = 0, 0.01\n",
    "for i in range(num_repetitions):\n",
    "    x = 0\n",
    "    for j in range(num_steps):\n",
    "        my_step = random.normal(mu, sigma)\n",
    "        x = x + my_step;\n",
    "    final_positions[i] = x\n",
    "hist(final_positions, bins=30)\n",
    "mu_expected = 0\n",
    "mu_observed = mean(final_positions)\n",
    "s = std(final_positions)\n",
    "n = len(final_positions)\n",
    "t_stat = (mu_observed - mu_expected)/(s/sqrt(n))\n",
    "#no se si multiplicarla por dos. Depende de mi hipotesis alterna. Si la alterna es que mu_expected es diferente a \n",
    "# mu_observed, deberia multiplicar por dos. \n",
    "p_value = stats.t.sf(abs(t_stat), n-1) + (1 - stats.t.sf(-abs(t_stat), n-1))\n",
    "print('mean ' + str(mean(final_positions)))\n",
    "print('pval ' + str(p_value))\n",
    "print('t ' + str(t_stat))\n",
    "print('s ' + str(s))\n",
    "print('SE ' + str(s/sqrt(n)))"
   ]
  },
  {
   "cell_type": "code",
   "execution_count": 15,
   "metadata": {
    "collapsed": false
   },
   "outputs": [
    {
     "name": "stdout",
     "output_type": "stream",
     "text": [
      "9999\n"
     ]
    },
    {
     "data": {
      "text/plain": [
       "[<matplotlib.lines.Line2D at 0x10a245198>]"
      ]
     },
     "execution_count": 15,
     "metadata": {},
     "output_type": "execute_result"
    },
    {
     "data": {
      "image/png": "[encoded data removed]",
      "text/plain": [
       "<matplotlib.figure.Figure at 0x10a54a470>"
      ]
     },
     "metadata": {},
     "output_type": "display_data"
    }
   ],
   "source": [
    "ts = np.linspace(-10, 10, num=10000)\n",
    "probs = []\n",
    "for t in ts:\n",
    "    probs.append(stats.t.sf(t, n-1))\n",
    "print(n-1)\n",
    "plot(ts, probs)"
   ]
  },
  {
   "cell_type": "code",
   "execution_count": 33,
   "metadata": {
    "collapsed": false
   },
   "outputs": [
    {
     "name": "stdout",
     "output_type": "stream",
     "text": [
      "0.041474489153\n",
      "0.041474489153\n",
      "0.082948978306\n"
     ]
    }
   ],
   "source": [
    "print(stats.t.sf(abs(-1.77), 49))\n",
    "print(1 - stats.t.sf(-abs(-1.77), 49))\n",
    "print(stats.t.sf(abs(-1.77), 49) + (1 - stats.t.sf(-abs(-1.77), 49)))"
   ]
  },
  {
   "cell_type": "code",
   "execution_count": null,
   "metadata": {
    "collapsed": true
   },
   "outputs": [],
   "source": []
  }
 ],
 "metadata": {
  "kernelspec": {
   "display_name": "Python 3",
   "language": "python",
   "name": "python3"
  },
  "language_info": {
   "codemirror_mode": {
    "name": "ipython",
    "version": 3
   },
   "file_extension": ".py",
   "mimetype": "text/x-python",
   "name": "python",
   "nbconvert_exporter": "python",
   "pygments_lexer": "ipython3",
   "version": "3.5.1"
  }
 },
 "nbformat": 4,
 "nbformat_minor": 0
}
