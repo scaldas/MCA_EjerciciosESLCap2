{
 "cells": [
  {
   "cell_type": "code",
   "execution_count": 1,
   "metadata": {
    "collapsed": false
   },
   "outputs": [
    {
     "name": "stdout",
     "output_type": "stream",
     "text": [
      "Populating the interactive namespace from numpy and matplotlib\n"
     ]
    }
   ],
   "source": [
    "%pylab inline\n",
    "import scipy.stats as stats"
   ]
  },
  {
   "cell_type": "code",
   "execution_count": 2,
   "metadata": {
    "collapsed": true
   },
   "outputs": [],
   "source": [
    "num_steps = 1000 \n",
    "num_repetitions = 10000 "
   ]
  },
  {
   "cell_type": "code",
   "execution_count": 3,
   "metadata": {
    "collapsed": false
   },
   "outputs": [],
   "source": [
    "final_positions = zeros(num_repetitions)\n",
    "for i in range(num_repetitions):\n",
    "    x = 0\n",
    "    for j in range(num_steps):\n",
    "        mu, sigma = 0, 0.25\n",
    "        step = random.normal(mu, sigma)\n",
    "        x = x + step;\n",
    "    final_positions[i] = x"
   ]
  },
  {
   "cell_type": "code",
   "execution_count": 4,
   "metadata": {
    "collapsed": false
   },
   "outputs": [
    {
     "data": {
      "text/plain": [
       "(array([  1.00000000e+00,   1.00000000e+00,   4.00000000e+00,\n",
       "          1.50000000e+01,   2.00000000e+01,   4.20000000e+01,\n",
       "          7.20000000e+01,   1.40000000e+02,   2.36000000e+02,\n",
       "          3.63000000e+02,   5.28000000e+02,   6.94000000e+02,\n",
       "          8.63000000e+02,   1.06800000e+03,   1.08800000e+03,\n",
       "          1.07700000e+03,   9.73000000e+02,   8.62000000e+02,\n",
       "          6.97000000e+02,   5.10000000e+02,   3.16000000e+02,\n",
       "          2.08000000e+02,   1.04000000e+02,   6.30000000e+01,\n",
       "          3.30000000e+01,   1.30000000e+01,   6.00000000e+00,\n",
       "          1.00000000e+00,   1.00000000e+00,   1.00000000e+00]),\n",
       " array([-32.8779895 , -30.67052332, -28.46305713, -26.25559095,\n",
       "        -24.04812476, -21.84065858, -19.63319239, -17.4257262 ,\n",
       "        -15.21826002, -13.01079383, -10.80332765,  -8.59586146,\n",
       "         -6.38839528,  -4.18092909,  -1.97346291,   0.23400328,\n",
       "          2.44146946,   4.64893565,   6.85640183,   9.06386802,\n",
       "         11.27133421,  13.47880039,  15.68626658,  17.89373276,\n",
       "         20.10119895,  22.30866513,  24.51613132,  26.7235975 ,\n",
       "         28.93106369,  31.13852987,  33.34599606]),\n",
       " <a list of 30 Patch objects>)"
      ]
     },
     "execution_count": 4,
     "metadata": {},
     "output_type": "execute_result"
    },
    {
     "data": {
      "image/png": "[encoded data removed]",
      "text/plain": [
       "<matplotlib.figure.Figure at 0x10a08a940>"
      ]
     },
     "metadata": {},
     "output_type": "display_data"
    }
   ],
   "source": [
    "hist(final_positions, bins=30)"
   ]
  },
  {
   "cell_type": "code",
   "execution_count": 9,
   "metadata": {
    "collapsed": false
   },
   "outputs": [
    {
     "name": "stdout",
     "output_type": "stream",
     "text": [
      "0.157082534588\n"
     ]
    }
   ],
   "source": [
    "p_value = stats.normaltest(final_positions).pvalue\n",
    "print(p_value)"
   ]
  },
  {
   "cell_type": "code",
   "execution_count": null,
   "metadata": {
    "collapsed": true
   },
   "outputs": [],
   "source": []
  }
 ],
 "metadata": {
  "kernelspec": {
   "display_name": "Python 3",
   "language": "python",
   "name": "python3"
  },
  "language_info": {
   "codemirror_mode": {
    "name": "ipython",
    "version": 3
   },
   "file_extension": ".py",
   "mimetype": "text/x-python",
   "name": "python",
   "nbconvert_exporter": "python",
   "pygments_lexer": "ipython3",
   "version": "3.5.1"
  }
 },
 "nbformat": 4,
 "nbformat_minor": 0
}
