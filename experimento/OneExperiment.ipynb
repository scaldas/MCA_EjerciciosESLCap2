{
 "cells": [
  {
   "cell_type": "code",
   "execution_count": 2,
   "metadata": {
    "collapsed": false
   },
   "outputs": [
    {
     "name": "stdout",
     "output_type": "stream",
     "text": [
      "Populating the interactive namespace from numpy and matplotlib\n"
     ]
    }
   ],
   "source": [
    "%pylab inline\n",
    "import scipy.stats as stats"
   ]
  },
  {
   "cell_type": "code",
   "execution_count": 3,
   "metadata": {
    "collapsed": true
   },
   "outputs": [],
   "source": [
    "num_steps = 1000 \n",
    "num_repetitions = 10000 "
   ]
  },
  {
   "cell_type": "code",
   "execution_count": 4,
   "metadata": {
    "collapsed": false
   },
   "outputs": [],
   "source": [
    "final_positions = zeros(num_repetitions)\n",
    "mu, sigma = 0, 0.25\n",
    "for i in range(num_repetitions):\n",
    "    x = 0\n",
    "    for j in range(num_steps):\n",
    "        step = random.normal(mu, sigma)\n",
    "        x = x + step;\n",
    "    final_positions[i] = x"
   ]
  },
  {
   "cell_type": "code",
   "execution_count": 5,
   "metadata": {
    "collapsed": false
   },
   "outputs": [
    {
     "data": {
      "text/plain": [
       "(array([  2.00000000e+00,   6.00000000e+00,   1.30000000e+01,\n",
       "          2.30000000e+01,   5.40000000e+01,   9.90000000e+01,\n",
       "          1.66000000e+02,   2.96000000e+02,   3.97000000e+02,\n",
       "          5.77000000e+02,   7.51000000e+02,   9.28000000e+02,\n",
       "          1.00800000e+03,   1.07500000e+03,   1.11500000e+03,\n",
       "          9.52000000e+02,   7.98000000e+02,   6.21000000e+02,\n",
       "          4.29000000e+02,   3.05000000e+02,   1.77000000e+02,\n",
       "          1.00000000e+02,   5.50000000e+01,   2.40000000e+01,\n",
       "          2.00000000e+01,   6.00000000e+00,   1.00000000e+00,\n",
       "          0.00000000e+00,   1.00000000e+00,   1.00000000e+00]),\n",
       " array([-29.61641055, -27.44253147, -25.26865238, -23.09477329,\n",
       "        -20.9208942 , -18.74701511, -16.57313603, -14.39925694,\n",
       "        -12.22537785, -10.05149876,  -7.87761968,  -5.70374059,\n",
       "         -3.5298615 ,  -1.35598241,   0.81789668,   2.99177576,\n",
       "          5.16565485,   7.33953394,   9.51341303,  11.68729211,\n",
       "         13.8611712 ,  16.03505029,  18.20892938,  20.38280847,\n",
       "         22.55668755,  24.73056664,  26.90444573,  29.07832482,\n",
       "         31.25220391,  33.42608299,  35.59996208]),\n",
       " <a list of 30 Patch objects>)"
      ]
     },
     "execution_count": 5,
     "metadata": {},
     "output_type": "execute_result"
    },
    {
     "data": {
      "image/png": "[encoded data removed]",
      "text/plain": [
       "<matplotlib.figure.Figure at 0x109fc9240>"
      ]
     },
     "metadata": {},
     "output_type": "display_data"
    }
   ],
   "source": [
    "hist(final_positions, bins=30)"
   ]
  },
  {
   "cell_type": "code",
   "execution_count": 6,
   "metadata": {
    "collapsed": false
   },
   "outputs": [
    {
     "name": "stdout",
     "output_type": "stream",
     "text": [
      "0.651239188977\n"
     ]
    }
   ],
   "source": [
    "p_value = stats.normaltest(final_positions).pvalue\n",
    "print(p_value)"
   ]
  },
  {
   "cell_type": "code",
   "execution_count": null,
   "metadata": {
    "collapsed": true
   },
   "outputs": [],
   "source": [
    "    stats.norm(100, 12).cdf(100)"
   ]
  }
 ],
 "metadata": {
  "kernelspec": {
   "display_name": "Python 3",
   "language": "python",
   "name": "python3"
  },
  "language_info": {
   "codemirror_mode": {
    "name": "ipython",
    "version": 3
   },
   "file_extension": ".py",
   "mimetype": "text/x-python",
   "name": "python",
   "nbconvert_exporter": "python",
   "pygments_lexer": "ipython3",
   "version": "3.5.1"
  }
 },
 "nbformat": 4,
 "nbformat_minor": 0
}
