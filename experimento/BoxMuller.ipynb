{
 "cells": [
  {
   "cell_type": "code",
   "execution_count": 9,
   "metadata": {
    "collapsed": false
   },
   "outputs": [
    {
     "name": "stdout",
     "output_type": "stream",
     "text": [
      "Populating the interactive namespace from numpy and matplotlib\n"
     ]
    }
   ],
   "source": [
    "%pylab inline\n",
    "import scipy.stats as stats"
   ]
  },
  {
   "cell_type": "code",
   "execution_count": 16,
   "metadata": {
    "collapsed": true
   },
   "outputs": [],
   "source": [
    "num_repetitions = 1000\n",
    "num_experiments = 100"
   ]
  },
  {
   "cell_type": "code",
   "execution_count": 29,
   "metadata": {
    "collapsed": false
   },
   "outputs": [],
   "source": [
    "p_values = []\n",
    "conservar = []\n",
    "for j in range(num_experiments):\n",
    "    gauss_distribution = []\n",
    "    for i in range(num_repetitions):\n",
    "        x = random.random()\n",
    "        y = random.random()\n",
    "    \n",
    "        gauss_1 = sqrt(-2.0 * log(x)) * cos(2.0* math.pi * y);\n",
    "        gauss_2 = sqrt(-2.0 * log(x)) * sin(2.0* math.pi * y);\n",
    "    \n",
    "        #if gauss_1 > 5.0:\n",
    "        gauss_distribution.append(gauss_1)\n",
    "        gauss_distribution.append(gauss_2)\n",
    "    p_values.append(stats.normaltest(gauss_distribution).pvalue)\n",
    "    if(stats.normaltest(gauss_distribution).pvalue < 0.01):\n",
    "        conservar = gauss_distribution"
   ]
  },
  {
   "cell_type": "code",
   "execution_count": 30,
   "metadata": {
    "collapsed": false
   },
   "outputs": [
    {
     "name": "stdout",
     "output_type": "stream",
     "text": [
      "0.00448912485918\n",
      "0.995996336194\n",
      "0.47321688432\n"
     ]
    }
   ],
   "source": [
    "print(min(p_values))\n",
    "print(max(p_values))\n",
    "print(mean(p_values))"
   ]
  },
  {
   "cell_type": "code",
   "execution_count": 31,
   "metadata": {
    "collapsed": false
   },
   "outputs": [
    {
     "data": {
      "text/plain": [
       "(array([ 3.,  3.,  3.,  4.,  5.,  2.,  5.,  3.,  5.,  1.,  1.,  7.,  5.,\n",
       "         5.,  6.,  2.,  2.,  3.,  5.,  2.,  1.,  3.,  4.,  4.,  5.,  2.,\n",
       "         2.,  1.,  2.,  4.]),\n",
       " array([ 0.00448912,  0.03753937,  0.07058961,  0.10363985,  0.13669009,\n",
       "         0.16974033,  0.20279057,  0.23584081,  0.26889105,  0.30194129,\n",
       "         0.33499153,  0.36804177,  0.40109201,  0.43414225,  0.46719249,\n",
       "         0.50024273,  0.53329297,  0.56634321,  0.59939345,  0.63244369,\n",
       "         0.66549393,  0.69854417,  0.73159441,  0.76464465,  0.79769489,\n",
       "         0.83074513,  0.86379537,  0.89684562,  0.92989586,  0.9629461 ,\n",
       "         0.99599634]),\n",
       " <a list of 30 Patch objects>)"
      ]
     },
     "execution_count": 31,
     "metadata": {},
     "output_type": "execute_result"
    },
    {
     "data": {
      "image/png": "[encoded data removed]",
      "text/plain": [
       "<matplotlib.figure.Figure at 0x10a9b2908>"
      ]
     },
     "metadata": {},
     "output_type": "display_data"
    }
   ],
   "source": [
    "hist(p_values, bins=30)"
   ]
  },
  {
   "cell_type": "code",
   "execution_count": 32,
   "metadata": {
    "collapsed": false
   },
   "outputs": [
    {
     "data": {
      "text/plain": [
       "(array([   2.,    1.,    5.,   16.,   21.,   33.,   44.,   62.,  102.,\n",
       "         103.,  124.,  139.,  156.,  164.,  144.,  139.,  140.,  162.,\n",
       "         111.,   98.,   73.,   50.,   38.,   37.,   17.,    7.,    4.,\n",
       "           5.,    2.,    1.]),\n",
       " array([-3.10284164, -2.88713362, -2.67142559, -2.45571756, -2.24000954,\n",
       "        -2.02430151, -1.80859348, -1.59288546, -1.37717743, -1.1614694 ,\n",
       "        -0.94576138, -0.73005335, -0.51434532, -0.2986373 , -0.08292927,\n",
       "         0.13277876,  0.34848678,  0.56419481,  0.77990284,  0.99561086,\n",
       "         1.21131889,  1.42702692,  1.64273494,  1.85844297,  2.074151  ,\n",
       "         2.28985902,  2.50556705,  2.72127508,  2.9369831 ,  3.15269113,\n",
       "         3.36839916]),\n",
       " <a list of 30 Patch objects>)"
      ]
     },
     "execution_count": 32,
     "metadata": {},
     "output_type": "execute_result"
    },
    {
     "data": {
      "image/png": "[encoded data removed]",
      "text/plain": [
       "<matplotlib.figure.Figure at 0x10ac646d8>"
      ]
     },
     "metadata": {},
     "output_type": "display_data"
    }
   ],
   "source": [
    "hist(conservar, bins=30)"
   ]
  },
  {
   "cell_type": "code",
   "execution_count": 33,
   "metadata": {
    "collapsed": false
   },
   "outputs": [
    {
     "data": {
      "text/plain": [
       "0.0044891248591758647"
      ]
     },
     "execution_count": 33,
     "metadata": {},
     "output_type": "execute_result"
    }
   ],
   "source": [
    "stats.normaltest(conservar).pvalue"
   ]
  },
  {
   "cell_type": "code",
   "execution_count": null,
   "metadata": {
    "collapsed": true
   },
   "outputs": [],
   "source": []
  }
 ],
 "metadata": {
  "kernelspec": {
   "display_name": "Python 3",
   "language": "python",
   "name": "python3"
  },
  "language_info": {
   "codemirror_mode": {
    "name": "ipython",
    "version": 3
   },
   "file_extension": ".py",
   "mimetype": "text/x-python",
   "name": "python",
   "nbconvert_exporter": "python",
   "pygments_lexer": "ipython3",
   "version": "3.5.1"
  }
 },
 "nbformat": 4,
 "nbformat_minor": 0
}
