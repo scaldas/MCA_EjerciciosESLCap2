{
 "cells": [
  {
   "cell_type": "code",
   "execution_count": 8,
   "metadata": {
    "collapsed": false
   },
   "outputs": [
    {
     "name": "stdout",
     "output_type": "stream",
     "text": [
      "Populating the interactive namespace from numpy and matplotlib\n"
     ]
    },
    {
     "name": "stderr",
     "output_type": "stream",
     "text": [
      "WARNING: pylab import has clobbered these variables: ['step']\n",
      "`%matplotlib` prevents importing * from pylab and numpy\n"
     ]
    }
   ],
   "source": [
    "%pylab inline\n",
    "import scipy.stats as stats"
   ]
  },
  {
   "cell_type": "code",
   "execution_count": 3,
   "metadata": {
    "collapsed": true
   },
   "outputs": [],
   "source": [
    "num_steps = 1000 \n",
    "num_repetitions = 10000 "
   ]
  },
  {
   "cell_type": "code",
   "execution_count": 6,
   "metadata": {
    "collapsed": false
   },
   "outputs": [],
   "source": [
    "final_positions = zeros(num_repetitions)\n",
    "for i in range(num_repetitions):\n",
    "    x = 0\n",
    "    for j in range(num_steps):\n",
    "        mu, sigma = 0, 0.25\n",
    "        step = random.normal(mu, sigma)\n",
    "        x = x + step;\n",
    "    final_positions[i] = x"
   ]
  },
  {
   "cell_type": "code",
   "execution_count": 7,
   "metadata": {
    "collapsed": false
   },
   "outputs": [
    {
     "data": {
      "text/plain": [
       "(array([   6.,    9.,    6.,   26.,   57.,   96.,  145.,  248.,  342.,\n",
       "         446.,  625.,  808.,  869.,  963.,  929.,  947.,  871.,  732.,\n",
       "         598.,  436.,  339.,  203.,  129.,   84.,   46.,   29.,    7.,\n",
       "           3.,    0.,    1.]),\n",
       " array([-27.93341211, -25.98605325, -24.03869439, -22.09133553,\n",
       "        -20.14397667, -18.19661781, -16.24925895, -14.30190009,\n",
       "        -12.35454123, -10.40718237,  -8.4598235 ,  -6.51246464,\n",
       "         -4.56510578,  -2.61774692,  -0.67038806,   1.2769708 ,\n",
       "          3.22432966,   5.17168852,   7.11904738,   9.06640624,\n",
       "         11.0137651 ,  12.96112396,  14.90848282,  16.85584168,\n",
       "         18.80320054,  20.7505594 ,  22.69791826,  24.64527712,\n",
       "         26.59263598,  28.53999484,  30.4873537 ]),\n",
       " <a list of 30 Patch objects>)"
      ]
     },
     "execution_count": 7,
     "metadata": {},
     "output_type": "execute_result"
    },
    {
     "data": {
      "image/png": "[encoded data removed]",
      "text/plain": [
       "<matplotlib.figure.Figure at 0x108cda470>"
      ]
     },
     "metadata": {},
     "output_type": "display_data"
    }
   ],
   "source": [
    "hist(final_positions, bins=30)"
   ]
  },
  {
   "cell_type": "code",
   "execution_count": null,
   "metadata": {
    "collapsed": true
   },
   "outputs": [],
   "source": []
  }
 ],
 "metadata": {
  "kernelspec": {
   "display_name": "Python 3",
   "language": "python",
   "name": "python3"
  },
  "language_info": {
   "codemirror_mode": {
    "name": "ipython",
    "version": 3
   },
   "file_extension": ".py",
   "mimetype": "text/x-python",
   "name": "python",
   "nbconvert_exporter": "python",
   "pygments_lexer": "ipython3",
   "version": "3.5.1"
  }
 },
 "nbformat": 4,
 "nbformat_minor": 0
}
