{
 "cells": [
  {
   "cell_type": "code",
   "execution_count": 1,
   "metadata": {
    "collapsed": false
   },
   "outputs": [
    {
     "name": "stdout",
     "output_type": "stream",
     "text": [
      "Populating the interactive namespace from numpy and matplotlib\n"
     ]
    }
   ],
   "source": [
    "%pylab inline\n",
    "import scipy.stats as stats"
   ]
  },
  {
   "cell_type": "code",
   "execution_count": 10,
   "metadata": {
    "collapsed": true
   },
   "outputs": [],
   "source": [
    "num_repetitions = 1000\n",
    "num_experiments = 100"
   ]
  },
  {
   "cell_type": "code",
   "execution_count": 11,
   "metadata": {
    "collapsed": false
   },
   "outputs": [],
   "source": [
    "p_values = []\n",
    "mins = []\n",
    "maxs = []\n",
    "averages = []\n",
    "\n",
    "minimum_p = 1000\n",
    "maximum_p = -1000\n",
    "minimum_p_array = []\n",
    "maximum_p_array = []\n",
    "\n",
    "for j in range(num_experiments):\n",
    "    gauss_distribution = []\n",
    "    for i in range(num_repetitions):\n",
    "        x = random.random()\n",
    "        y = random.random()\n",
    "        \n",
    "        gauss_1 = sqrt(-2.0 * log(x)) * cos(2.0* math.pi * y);\n",
    "        gauss_2 = sqrt(-2.0 * log(x)) * sin(2.0* math.pi * y);\n",
    "    \n",
    "        #if gauss_1 > 5.0:\n",
    "        gauss_distribution.append(gauss_1)\n",
    "        gauss_distribution.append(gauss_2)\n",
    "    p_values.append(stats.normaltest(gauss_distribution).pvalue)\n",
    "    mins.append(min(p_values[:j+1]))\n",
    "    maxs.append(max(p_values[:j+1]))\n",
    "    averages.append(mean(p_values[:j+1]))\n",
    "    \n",
    "    if p_values[j] < minimum_p:\n",
    "        minimum_p = p_values[j]\n",
    "        minimum_p_array = gauss_distribution\n",
    "        #print('papaya')\n",
    "    elif p_values[j] > maximum_p:\n",
    "        maximum_p = p_values[j]\n",
    "        maximum_p_array = gauss_distribution\n",
    "        #print('pera')"
   ]
  },
  {
   "cell_type": "code",
   "execution_count": 12,
   "metadata": {
    "collapsed": false
   },
   "outputs": [
    {
     "data": {
      "text/plain": [
       "<matplotlib.legend.Legend at 0x10ae18dd8>"
      ]
     },
     "execution_count": 12,
     "metadata": {},
     "output_type": "execute_result"
    },
    {
     "data": {
      "image/png": "[encoded data removed]",
      "text/plain": [
       "<matplotlib.figure.Figure at 0x10aaca5f8>"
      ]
     },
     "metadata": {},
     "output_type": "display_data"
    }
   ],
   "source": [
    "plot(mins)\n",
    "plot(maxs)\n",
    "plot(averages)\n",
    "xlabel('Numero de Experimentos')\n",
    "plt.legend(['minimo', 'maximo', 'promedio'], loc='upper right')"
   ]
  },
  {
   "cell_type": "code",
   "execution_count": 13,
   "metadata": {
    "collapsed": false
   },
   "outputs": [
    {
     "name": "stdout",
     "output_type": "stream",
     "text": [
      "0.000611826523342\n"
     ]
    },
    {
     "data": {
      "image/png": "[encoded data removed]",
      "text/plain": [
       "<matplotlib.figure.Figure at 0x10ab67358>"
      ]
     },
     "metadata": {},
     "output_type": "display_data"
    }
   ],
   "source": [
    "hist(minimum_p_array, bins=30)\n",
    "print(stats.normaltest(minimum_p_array).pvalue)"
   ]
  },
  {
   "cell_type": "code",
   "execution_count": 14,
   "metadata": {
    "collapsed": false
   },
   "outputs": [
    {
     "name": "stdout",
     "output_type": "stream",
     "text": [
      "0.993478179489\n"
     ]
    },
    {
     "data": {
      "image/png": "[encoded data removed]",
      "text/plain": [
       "<matplotlib.figure.Figure at 0x10aeb1780>"
      ]
     },
     "metadata": {},
     "output_type": "display_data"
    }
   ],
   "source": [
    "hist(maximum_p_array, bins=30)\n",
    "print(stats.normaltest(maximum_p_array).pvalue)"
   ]
  },
  {
   "cell_type": "code",
   "execution_count": null,
   "metadata": {
    "collapsed": true
   },
   "outputs": [],
   "source": []
  }
 ],
 "metadata": {
  "kernelspec": {
   "display_name": "Python 3",
   "language": "python",
   "name": "python3"
  },
  "language_info": {
   "codemirror_mode": {
    "name": "ipython",
    "version": 3
   },
   "file_extension": ".py",
   "mimetype": "text/x-python",
   "name": "python",
   "nbconvert_exporter": "python",
   "pygments_lexer": "ipython3",
   "version": "3.5.1"
  }
 },
 "nbformat": 4,
 "nbformat_minor": 0
}
