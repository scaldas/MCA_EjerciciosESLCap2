{
 "cells": [
  {
   "cell_type": "code",
   "execution_count": 6,
   "metadata": {
    "collapsed": false
   },
   "outputs": [
    {
     "name": "stdout",
     "output_type": "stream",
     "text": [
      "Populating the interactive namespace from numpy and matplotlib\n"
     ]
    },
    {
     "name": "stderr",
     "output_type": "stream",
     "text": [
      "WARNING: pylab import has clobbered these variables: ['step']\n",
      "`%matplotlib` prevents importing * from pylab and numpy\n"
     ]
    }
   ],
   "source": [
    "%pylab inline\n",
    "import scipy.stats as stats"
   ]
  },
  {
   "cell_type": "code",
   "execution_count": 7,
   "metadata": {
    "collapsed": true
   },
   "outputs": [],
   "source": [
    "num_steps = 100\n",
    "num_repetitions = 100\n",
    "num_experiments = 100"
   ]
  },
  {
   "cell_type": "code",
   "execution_count": 8,
   "metadata": {
    "collapsed": false
   },
   "outputs": [],
   "source": [
    "p_values = zeros(num_experiments)\n",
    "for k in range(num_experiments):\n",
    "    final_positions = zeros(num_repetitions)\n",
    "    for i in range(num_repetitions):\n",
    "        x = 0\n",
    "        for j in range(num_steps):\n",
    "            mu, sigma = 0, 0.25\n",
    "            my_step = random.normal(mu, sigma)\n",
    "            x = x + my_step;\n",
    "        final_positions[i] = x\n",
    "    mu_expected = 0\n",
    "    mu_observed = mean(final_positions)\n",
    "    s = std(final_positions)\n",
    "    n = len(final_positions)\n",
    "    t_stat = (mu_observed - mu_expected)/(s/sqrt(n))\n",
    "    p_values[k] = stats.t.sf(np.abs(t_stat), n-1)"
   ]
  },
  {
   "cell_type": "code",
   "execution_count": 4,
   "metadata": {
    "collapsed": false
   },
   "outputs": [
    {
     "name": "stdout",
     "output_type": "stream",
     "text": [
      "0.000783039820865\n",
      "0.494720813028\n",
      "0.233567309741\n"
     ]
    }
   ],
   "source": [
    "print(min(p_values))\n",
    "print(max(p_values))\n",
    "print(mean(p_values))"
   ]
  },
  {
   "cell_type": "code",
   "execution_count": 5,
   "metadata": {
    "collapsed": false
   },
   "outputs": [
    {
     "data": {
      "text/plain": [
       "(array([ 5.,  4.,  9.,  3.,  4.,  4.,  2.,  4.,  1.,  1.,  4.,  4.,  2.,\n",
       "         5.,  3.,  4.,  2.,  0.,  3.,  1.,  2.,  4.,  3.,  5.,  3.,  5.,\n",
       "         4.,  2.,  2.,  5.]),\n",
       " array([ 0.00078304,  0.01724763,  0.03371222,  0.05017682,  0.06664141,\n",
       "         0.083106  ,  0.09957059,  0.11603519,  0.13249978,  0.14896437,\n",
       "         0.16542896,  0.18189356,  0.19835815,  0.21482274,  0.23128733,\n",
       "         0.24775193,  0.26421652,  0.28068111,  0.2971457 ,  0.3136103 ,\n",
       "         0.33007489,  0.34653948,  0.36300407,  0.37946867,  0.39593326,\n",
       "         0.41239785,  0.42886244,  0.44532704,  0.46179163,  0.47825622,\n",
       "         0.49472081]),\n",
       " <a list of 30 Patch objects>)"
      ]
     },
     "execution_count": 5,
     "metadata": {},
     "output_type": "execute_result"
    },
    {
     "data": {
      "image/png": "[encoded data removed]",
      "text/plain": [
       "<matplotlib.figure.Figure at 0x10a08db70>"
      ]
     },
     "metadata": {},
     "output_type": "display_data"
    }
   ],
   "source": [
    "hist(p_values, bins=30)"
   ]
  },
  {
   "cell_type": "code",
   "execution_count": null,
   "metadata": {
    "collapsed": true
   },
   "outputs": [],
   "source": []
  }
 ],
 "metadata": {
  "kernelspec": {
   "display_name": "Python 3",
   "language": "python",
   "name": "python3"
  },
  "language_info": {
   "codemirror_mode": {
    "name": "ipython",
    "version": 3
   },
   "file_extension": ".py",
   "mimetype": "text/x-python",
   "name": "python",
   "nbconvert_exporter": "python",
   "pygments_lexer": "ipython3",
   "version": "3.5.1"
  }
 },
 "nbformat": 4,
 "nbformat_minor": 0
}
