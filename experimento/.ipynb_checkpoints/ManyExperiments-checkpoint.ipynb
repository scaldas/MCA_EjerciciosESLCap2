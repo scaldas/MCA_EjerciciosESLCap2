{
 "cells": [
  {
   "cell_type": "code",
   "execution_count": 1,
   "metadata": {
    "collapsed": false
   },
   "outputs": [
    {
     "name": "stdout",
     "output_type": "stream",
     "text": [
      "Populating the interactive namespace from numpy and matplotlib\n"
     ]
    }
   ],
   "source": [
    "%pylab inline\n",
    "import scipy.stats as stats"
   ]
  },
  {
   "cell_type": "code",
   "execution_count": 20,
   "metadata": {
    "collapsed": true
   },
   "outputs": [],
   "source": [
    "num_steps = 100\n",
    "num_repetitions = 100\n",
    "num_experiments = 100"
   ]
  },
  {
   "cell_type": "code",
   "execution_count": 24,
   "metadata": {
    "collapsed": false
   },
   "outputs": [],
   "source": [
    "p_values = zeros(num_experiments)\n",
    "for k in range(num_experiments):\n",
    "    final_positions = zeros(num_repetitions)\n",
    "    for i in range(num_repetitions):\n",
    "        x = 0\n",
    "        for j in range(num_steps):\n",
    "            mu, sigma = 0, 0.25\n",
    "            step = random.normal(mu, sigma)\n",
    "            x = x + step;\n",
    "        final_positions[i] = x\n",
    "    p_values[k] = stats.normaltest(final_positions).pvalue"
   ]
  },
  {
   "cell_type": "code",
   "execution_count": 25,
   "metadata": {
    "collapsed": false
   },
   "outputs": [
    {
     "name": "stdout",
     "output_type": "stream",
     "text": [
      "0.00290656466893\n",
      "0.995622480224\n",
      "0.546581011472\n"
     ]
    }
   ],
   "source": [
    "print(min(p_values))\n",
    "print(max(p_values))\n",
    "print(mean(p_values))"
   ]
  },
  {
   "cell_type": "code",
   "execution_count": 26,
   "metadata": {
    "collapsed": false
   },
   "outputs": [
    {
     "data": {
      "text/plain": [
       "(array([ 2.,  5.,  2.,  4.,  1.,  2.,  2.,  3.,  2.,  3.,  6.,  3.,  0.,\n",
       "         8.,  1.,  7.,  0.,  3.,  4.,  3.,  2.,  2.,  4.,  4.,  4.,  3.,\n",
       "         4.,  5.,  5.,  6.]),\n",
       " array([ 0.00290656,  0.0359971 ,  0.06908763,  0.10217816,  0.13526869,\n",
       "         0.16835922,  0.20144975,  0.23454028,  0.26763081,  0.30072134,\n",
       "         0.33381187,  0.3669024 ,  0.39999293,  0.43308346,  0.46617399,\n",
       "         0.49926452,  0.53235505,  0.56544558,  0.59853611,  0.63162664,\n",
       "         0.66471718,  0.69780771,  0.73089824,  0.76398877,  0.7970793 ,\n",
       "         0.83016983,  0.86326036,  0.89635089,  0.92944142,  0.96253195,\n",
       "         0.99562248]),\n",
       " <a list of 30 Patch objects>)"
      ]
     },
     "execution_count": 26,
     "metadata": {},
     "output_type": "execute_result"
    },
    {
     "data": {
      "image/png": "[encoded data removed]",
      "text/plain": [
       "<matplotlib.figure.Figure at 0x10a717630>"
      ]
     },
     "metadata": {},
     "output_type": "display_data"
    }
   ],
   "source": [
    "hist(p_values, bins=30)"
   ]
  },
  {
   "cell_type": "code",
   "execution_count": null,
   "metadata": {
    "collapsed": true
   },
   "outputs": [],
   "source": []
  }
 ],
 "metadata": {
  "kernelspec": {
   "display_name": "Python 3",
   "language": "python",
   "name": "python3"
  },
  "language_info": {
   "codemirror_mode": {
    "name": "ipython",
    "version": 3
   },
   "file_extension": ".py",
   "mimetype": "text/x-python",
   "name": "python",
   "nbconvert_exporter": "python",
   "pygments_lexer": "ipython3",
   "version": "3.5.1"
  }
 },
 "nbformat": 4,
 "nbformat_minor": 0
}
