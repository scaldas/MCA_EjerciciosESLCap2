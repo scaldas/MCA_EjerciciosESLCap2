{
 "cells": [
  {
   "cell_type": "code",
   "execution_count": 1,
   "metadata": {
    "collapsed": false
   },
   "outputs": [
    {
     "name": "stdout",
     "output_type": "stream",
     "text": [
      "Populating the interactive namespace from numpy and matplotlib\n"
     ]
    }
   ],
   "source": [
    "%pylab inline\n",
    "import scipy.stats as stats"
   ]
  },
  {
   "cell_type": "code",
   "execution_count": 2,
   "metadata": {
    "collapsed": true
   },
   "outputs": [],
   "source": [
    "num_steps = 1000\n",
    "num_repetitions = 1000\n",
    "num_experiments = 100"
   ]
  },
  {
   "cell_type": "code",
   "execution_count": 3,
   "metadata": {
    "collapsed": false
   },
   "outputs": [
    {
     "name": "stdout",
     "output_type": "stream",
     "text": [
      "papaya\n",
      "papaya\n",
      "pera\n",
      "papaya\n",
      "pera\n",
      "pera\n",
      "papaya\n",
      "papaya\n",
      "papaya\n",
      "pera\n",
      "pera\n"
     ]
    }
   ],
   "source": [
    "p_values = zeros(num_experiments)\n",
    "mins = zeros(num_experiments)\n",
    "maxs = zeros(num_experiments)\n",
    "averages = zeros(num_experiments)\n",
    "\n",
    "minimum_p = 1000\n",
    "maximum_p = -1000\n",
    "minimum_p_array = zeros(num_repetitions)\n",
    "maximum_p_array = zeros(num_repetitions)\n",
    "\n",
    "for k in range(num_experiments):\n",
    "    final_positions = zeros(num_repetitions)\n",
    "    for i in range(num_repetitions):\n",
    "        x = 0\n",
    "        for j in range(num_steps):\n",
    "            mu, sigma = 0, 0.25\n",
    "            step = random.normal(mu, sigma)\n",
    "            x = x + step;\n",
    "        final_positions[i] = x\n",
    "    p_values[k] = stats.normaltest(final_positions).pvalue\n",
    "    mins[k] = min(p_values[:k+1])\n",
    "    maxs[k] = max(p_values[:k+1])\n",
    "    averages[k] = mean(p_values[:k+1])\n",
    "    \n",
    "    if p_values[k] < minimum_p:\n",
    "        minimum_p = p_values[k]\n",
    "        minimum_p_array = final_positions\n",
    "        #print('papaya')\n",
    "    elif p_values[k] > maximum_p:\n",
    "        maximum_p = p_values[k]\n",
    "        maximum_p_array = final_positions\n",
    "        #print('pera')"
   ]
  },
  {
   "cell_type": "code",
   "execution_count": 37,
   "metadata": {
    "collapsed": false
   },
   "outputs": [
    {
     "data": {
      "text/plain": [
       "<matplotlib.legend.Legend at 0x10c41f550>"
      ]
     },
     "execution_count": 37,
     "metadata": {},
     "output_type": "execute_result"
    },
    {
     "data": {
      "image/png": "[encoded data removed]",
      "text/plain": [
       "<matplotlib.figure.Figure at 0x10c1c25f8>"
      ]
     },
     "metadata": {},
     "output_type": "display_data"
    }
   ],
   "source": [
    "plot(mins)\n",
    "plot(maxs)\n",
    "plot(averages)\n",
    "xlabel('Numero de Experimentos')\n",
    "plt.legend(['minimo', 'maximo', 'promedio'], loc='upper right')"
   ]
  },
  {
   "cell_type": "code",
   "execution_count": 38,
   "metadata": {
    "collapsed": false
   },
   "outputs": [
    {
     "data": {
      "text/plain": [
       "(array([   3.,    0.,    3.,    9.,   13.,   14.,   38.,   50.,   75.,\n",
       "          93.,   82.,   98.,  102.,   96.,   88.,   85.,   55.,   39.,\n",
       "          18.,   14.,   11.,    6.,    4.,    1.,    1.,    0.,    0.,\n",
       "           1.,    0.,    1.]),\n",
       " array([-25.34542215, -23.27968242, -21.2139427 , -19.14820297,\n",
       "        -17.08246324, -15.01672351, -12.95098379, -10.88524406,\n",
       "         -8.81950433,  -6.75376461,  -4.68802488,  -2.62228515,\n",
       "         -0.55654543,   1.5091943 ,   3.57493403,   5.64067376,\n",
       "          7.70641348,   9.77215321,  11.83789294,  13.90363266,\n",
       "         15.96937239,  18.03511212,  20.10085185,  22.16659157,\n",
       "         24.2323313 ,  26.29807103,  28.36381075,  30.42955048,\n",
       "         32.49529021,  34.56102993,  36.62676966]),\n",
       " <a list of 30 Patch objects>)"
      ]
     },
     "execution_count": 38,
     "metadata": {},
     "output_type": "execute_result"
    },
    {
     "data": {
      "image/png": "[encoded data removed]",
      "text/plain": [
       "<matplotlib.figure.Figure at 0x10b89c860>"
      ]
     },
     "metadata": {},
     "output_type": "display_data"
    }
   ],
   "source": [
    "hist(minimum_p_array, bins=30)"
   ]
  },
  {
   "cell_type": "code",
   "execution_count": 39,
   "metadata": {
    "collapsed": false
   },
   "outputs": [
    {
     "data": {
      "text/plain": [
       "(array([  1.,   4.,   4.,   1.,   6.,  10.,  14.,  25.,  40.,  48.,  63.,\n",
       "         65.,  82.,  78.,  96.,  79.,  64.,  72.,  67.,  59.,  41.,  32.,\n",
       "         16.,   8.,   8.,  10.,   4.,   1.,   1.,   1.]),\n",
       " array([-25.04861813, -23.33652654, -21.62443495, -19.91234336,\n",
       "        -18.20025178, -16.48816019, -14.7760686 , -13.06397701,\n",
       "        -11.35188542,  -9.63979383,  -7.92770225,  -6.21561066,\n",
       "         -4.50351907,  -2.79142748,  -1.07933589,   0.63275569,\n",
       "          2.34484728,   4.05693887,   5.76903046,   7.48112205,\n",
       "          9.19321364,  10.90530522,  12.61739681,  14.3294884 ,\n",
       "         16.04157999,  17.75367158,  19.46576316,  21.17785475,\n",
       "         22.88994634,  24.60203793,  26.31412952]),\n",
       " <a list of 30 Patch objects>)"
      ]
     },
     "execution_count": 39,
     "metadata": {},
     "output_type": "execute_result"
    },
    {
     "data": {
      "image/png": "[encoded data removed]",
      "text/plain": [
       "<matplotlib.figure.Figure at 0x10bd610b8>"
      ]
     },
     "metadata": {},
     "output_type": "display_data"
    }
   ],
   "source": [
    "hist(maximum_p_array, bins=30)"
   ]
  },
  {
   "cell_type": "code",
   "execution_count": null,
   "metadata": {
    "collapsed": true
   },
   "outputs": [],
   "source": []
  }
 ],
 "metadata": {
  "kernelspec": {
   "display_name": "Python 3",
   "language": "python",
   "name": "python3"
  },
  "language_info": {
   "codemirror_mode": {
    "name": "ipython",
    "version": 3
   },
   "file_extension": ".py",
   "mimetype": "text/x-python",
   "name": "python",
   "nbconvert_exporter": "python",
   "pygments_lexer": "ipython3",
   "version": "3.5.1"
  }
 },
 "nbformat": 4,
 "nbformat_minor": 0
}
