{
 "cells": [
  {
   "cell_type": "code",
   "execution_count": 1,
   "metadata": {
    "collapsed": false
   },
   "outputs": [
    {
     "name": "stdout",
     "output_type": "stream",
     "text": [
      "Populating the interactive namespace from numpy and matplotlib\n"
     ]
    }
   ],
   "source": [
    "%pylab inline\n",
    "import scipy.stats as stats"
   ]
  },
  {
   "cell_type": "code",
   "execution_count": 2,
   "metadata": {
    "collapsed": true
   },
   "outputs": [],
   "source": [
    "num_steps = 100\n",
    "num_repetitions = 10000\n",
    "num_experiments = 100"
   ]
  },
  {
   "cell_type": "code",
   "execution_count": 5,
   "metadata": {
    "collapsed": false
   },
   "outputs": [],
   "source": [
    "p_values = zeros(num_experiments)\n",
    "t_stats = zeros(num_experiments)\n",
    "\n",
    "mins = zeros(num_experiments)\n",
    "maxs = zeros(num_experiments)\n",
    "averages = zeros(num_experiments)\n",
    "\n",
    "minimum_p = 1000\n",
    "maximum_p = -1000\n",
    "minimum_p_array = zeros(num_repetitions)\n",
    "maximum_p_array = zeros(num_repetitions)\n",
    "\n",
    "for k in range(num_experiments):\n",
    "    final_positions = zeros(num_repetitions)\n",
    "    for i in range(num_repetitions):\n",
    "        x = 0\n",
    "        for j in range(num_steps):\n",
    "            mu, sigma = 0, 0.05\n",
    "            my_step = random.normal(mu, sigma)\n",
    "            x = x + my_step;\n",
    "        final_positions[i] = x\n",
    "    mu_expected = 0\n",
    "    mu_observed = mean(final_positions)\n",
    "    s = std(final_positions)\n",
    "    n = len(final_positions)\n",
    "    t_stat = (mu_observed - mu_expected)/(s/sqrt(n))\n",
    "    p_values[k] = stats.t.sf(abs(t_stat), n-1) + (1 - stats.t.sf(-abs(t_stat), n-1))\n",
    "\n",
    "    mins[k] = min(p_values[:k+1])\n",
    "    maxs[k] = max(p_values[:k+1])\n",
    "    averages[k] = mean(p_values[:k+1])\n",
    "    \n",
    "    if p_values[k] < minimum_p:\n",
    "        minimum_p = p_values[k]\n",
    "        minimum_p_array = final_positions\n",
    "    elif p_values[k] > maximum_p:\n",
    "        maximum_p = p_values[k]\n",
    "        maximum_p_array = final_positions"
   ]
  },
  {
   "cell_type": "code",
   "execution_count": 6,
   "metadata": {
    "collapsed": false
   },
   "outputs": [
    {
     "data": {
      "text/plain": [
       "<matplotlib.legend.Legend at 0x10a187b70>"
      ]
     },
     "execution_count": 6,
     "metadata": {},
     "output_type": "execute_result"
    },
    {
     "data": {
      "image/png": "[encoded data removed]",
      "text/plain": [
       "<matplotlib.figure.Figure at 0x10a1348d0>"
      ]
     },
     "metadata": {},
     "output_type": "display_data"
    }
   ],
   "source": [
    "plot(mins)\n",
    "plot(maxs)\n",
    "plot(averages)\n",
    "xlabel('Numero de Experimentos')\n",
    "plt.legend(['minimo', 'maximo', 'promedio'], loc='upper right')"
   ]
  },
  {
   "cell_type": "code",
   "execution_count": 9,
   "metadata": {
    "collapsed": false
   },
   "outputs": [
    {
     "name": "stdout",
     "output_type": "stream",
     "text": [
      "minimum p 0.000128906840898\n",
      "mean 0.0614939146319\n",
      "s 0.505935174568\n"
     ]
    },
    {
     "data": {
      "image/png": "[encoded data removed]",
      "text/plain": [
       "<matplotlib.figure.Figure at 0x10a43be80>"
      ]
     },
     "metadata": {},
     "output_type": "display_data"
    }
   ],
   "source": [
    "hist(minimum_p_array, bins=30)\n",
    "print('minimum p ' + str(minimum_p))\n",
    "print('mean ' + str(mean(minimum_p_array)))\n",
    "print('s ' + str(std(minimum_p_array)))"
   ]
  },
  {
   "cell_type": "code",
   "execution_count": 11,
   "metadata": {
    "collapsed": false
   },
   "outputs": [
    {
     "name": "stdout",
     "output_type": "stream",
     "text": [
      "maximum p 0.980522213367\n",
      "mean 0.000382048295308\n",
      "s 0.494728391535\n"
     ]
    },
    {
     "data": {
      "image/png": "[encoded data removed]",
      "text/plain": [
       "<matplotlib.figure.Figure at 0x10acb5b38>"
      ]
     },
     "metadata": {},
     "output_type": "display_data"
    }
   ],
   "source": [
    "hist(maximum_p_array, bins=30)\n",
    "print('maximum p ' + str(maximum_p))\n",
    "print('mean ' + str(mean(maximum_p_array)))\n",
    "print('s ' + str(std(maximum_p_array)))"
   ]
  },
  {
   "cell_type": "code",
   "execution_count": null,
   "metadata": {
    "collapsed": true
   },
   "outputs": [],
   "source": []
  }
 ],
 "metadata": {
  "kernelspec": {
   "display_name": "Python 3",
   "language": "python",
   "name": "python3"
  },
  "language_info": {
   "codemirror_mode": {
    "name": "ipython",
    "version": 3
   },
   "file_extension": ".py",
   "mimetype": "text/x-python",
   "name": "python",
   "nbconvert_exporter": "python",
   "pygments_lexer": "ipython3",
   "version": "3.5.1"
  }
 },
 "nbformat": 4,
 "nbformat_minor": 0
}
