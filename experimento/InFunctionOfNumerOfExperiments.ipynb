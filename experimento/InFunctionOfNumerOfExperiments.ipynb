{
 "cells": [
  {
   "cell_type": "code",
   "execution_count": 1,
   "metadata": {
    "collapsed": false
   },
   "outputs": [
    {
     "name": "stdout",
     "output_type": "stream",
     "text": [
      "Populating the interactive namespace from numpy and matplotlib\n"
     ]
    }
   ],
   "source": [
    "%pylab inline\n",
    "import scipy.stats as stats"
   ]
  },
  {
   "cell_type": "code",
   "execution_count": 2,
   "metadata": {
    "collapsed": true
   },
   "outputs": [],
   "source": [
    "num_steps = 100\n",
    "num_repetitions = 10000\n",
    "num_experiments = 100"
   ]
  },
  {
   "cell_type": "code",
   "execution_count": 8,
   "metadata": {
    "collapsed": false
   },
   "outputs": [],
   "source": [
    "p_values = zeros(num_experiments)\n",
    "t_stats = zeros(num_experiments)\n",
    "\n",
    "mins = zeros(num_experiments)\n",
    "maxs = zeros(num_experiments)\n",
    "averages = zeros(num_experiments)\n",
    "\n",
    "minimum_p = 1000\n",
    "maximum_p = -1000\n",
    "minimum_p_array = zeros(num_repetitions)\n",
    "maximum_p_array = zeros(num_repetitions)\n",
    "\n",
    "for k in range(num_experiments):\n",
    "    final_positions = zeros(num_repetitions)\n",
    "    for i in range(num_repetitions):\n",
    "        x = 0\n",
    "        for j in range(num_steps):\n",
    "            mu, sigma = 0, 0.05\n",
    "            my_step = random.normal(mu, sigma)\n",
    "            x = x + my_step;\n",
    "        final_positions[i] = x\n",
    "    mu_expected = 0\n",
    "    mu_observed = mean(final_positions)\n",
    "    s = std(final_positions)\n",
    "    n = len(final_positions)\n",
    "    t_stat = (mu_observed - mu_expected)/(s/sqrt(n))\n",
    "    p_values[k] = stats.t.sf(abs(t_stat), n-1)\n",
    "    t_stats[k] = abs(t_stat)\n",
    "    mins[k] = min(p_values[:k+1])\n",
    "    maxs[k] = max(p_values[:k+1])\n",
    "    averages[k] = mean(p_values[:k+1])\n",
    "    \n",
    "    if p_values[k] < minimum_p:\n",
    "        minimum_p = p_values[k]\n",
    "        minimum_p_array = final_positions\n",
    "    elif p_values[k] > maximum_p:\n",
    "        maximum_p = p_values[k]\n",
    "        maximum_p_array = final_positions"
   ]
  },
  {
   "cell_type": "code",
   "execution_count": 9,
   "metadata": {
    "collapsed": false
   },
   "outputs": [
    {
     "data": {
      "text/plain": [
       "(array([  9.,   7.,  11.,   8.,  10.,  11.,  11.,  11.,  13.,   9.]),\n",
       " array([ 0.00495246,  0.05433875,  0.10372503,  0.15311131,  0.2024976 ,\n",
       "         0.25188388,  0.30127016,  0.35065645,  0.40004273,  0.44942901,\n",
       "         0.4988153 ]),\n",
       " <a list of 10 Patch objects>)"
      ]
     },
     "execution_count": 9,
     "metadata": {},
     "output_type": "execute_result"
    },
    {
     "data": {
      "image/png": "[encoded data removed]",
      "text/plain": [
       "<matplotlib.figure.Figure at 0x10a3d3048>"
      ]
     },
     "metadata": {},
     "output_type": "display_data"
    }
   ],
   "source": [
    "hist(p_values)"
   ]
  },
  {
   "cell_type": "code",
   "execution_count": 10,
   "metadata": {
    "collapsed": false
   },
   "outputs": [
    {
     "data": {
      "text/plain": [
       "(array([ 22.,  21.,  20.,  11.,  10.,   6.,   5.,   1.,   3.,   1.]),\n",
       " array([ 0.00296969,  0.26063515,  0.51830062,  0.77596609,  1.03363156,\n",
       "         1.29129703,  1.5489625 ,  1.80662796,  2.06429343,  2.3219589 ,\n",
       "         2.57962437]),\n",
       " <a list of 10 Patch objects>)"
      ]
     },
     "execution_count": 10,
     "metadata": {},
     "output_type": "execute_result"
    },
    {
     "data": {
      "image/png": "[encoded data removed]",
      "text/plain": [
       "<matplotlib.figure.Figure at 0x10a3d5668>"
      ]
     },
     "metadata": {},
     "output_type": "display_data"
    }
   ],
   "source": [
    "hist(t_stats)"
   ]
  },
  {
   "cell_type": "code",
   "execution_count": 11,
   "metadata": {
    "collapsed": false
   },
   "outputs": [
    {
     "data": {
      "text/plain": [
       "<matplotlib.legend.Legend at 0x10a74dfd0>"
      ]
     },
     "execution_count": 11,
     "metadata": {},
     "output_type": "execute_result"
    },
    {
     "data": {
      "image/png": "[encoded data removed]",
      "text/plain": [
       "<matplotlib.figure.Figure at 0x10a29be48>"
      ]
     },
     "metadata": {},
     "output_type": "display_data"
    }
   ],
   "source": [
    "plot(mins)\n",
    "plot(maxs)\n",
    "plot(averages)\n",
    "xlabel('Numero de Experimentos')\n",
    "plt.legend(['minimo', 'maximo', 'promedio'], loc='upper right')"
   ]
  },
  {
   "cell_type": "code",
   "execution_count": 12,
   "metadata": {
    "collapsed": false
   },
   "outputs": [
    {
     "name": "stdout",
     "output_type": "stream",
     "text": [
      "minimum p 0.00495246301308\n",
      "mean 0.0127653702793\n",
      "s 0.494853841217\n"
     ]
    },
    {
     "data": {
      "image/png": "[encoded data removed]",
      "text/plain": [
       "<matplotlib.figure.Figure at 0x10a76e400>"
      ]
     },
     "metadata": {},
     "output_type": "display_data"
    }
   ],
   "source": [
    "hist(minimum_p_array, bins=30)\n",
    "print('minimum p ' + str(minimum_p))\n",
    "print('mean ' + str(mean(minimum_p_array)))\n",
    "print('s ' + str(std(minimum_p_array)))"
   ]
  },
  {
   "cell_type": "code",
   "execution_count": 13,
   "metadata": {
    "collapsed": false
   },
   "outputs": [
    {
     "name": "stdout",
     "output_type": "stream",
     "text": [
      "maximum p 0.498815298164\n",
      "mean -1.49592253229e-05\n",
      "s 0.503730922023\n"
     ]
    },
    {
     "data": {
      "image/png": "[encoded data removed]",
      "text/plain": [
       "<matplotlib.figure.Figure at 0x10a7156a0>"
      ]
     },
     "metadata": {},
     "output_type": "display_data"
    }
   ],
   "source": [
    "hist(maximum_p_array, bins=30)\n",
    "print('maximum p ' + str(maximum_p))\n",
    "print('mean ' + str(mean(maximum_p_array)))\n",
    "print('s ' + str(std(maximum_p_array)))"
   ]
  },
  {
   "cell_type": "code",
   "execution_count": null,
   "metadata": {
    "collapsed": true
   },
   "outputs": [],
   "source": []
  }
 ],
 "metadata": {
  "kernelspec": {
   "display_name": "Python 3",
   "language": "python",
   "name": "python3"
  },
  "language_info": {
   "codemirror_mode": {
    "name": "ipython",
    "version": 3
   },
   "file_extension": ".py",
   "mimetype": "text/x-python",
   "name": "python",
   "nbconvert_exporter": "python",
   "pygments_lexer": "ipython3",
   "version": "3.5.1"
  }
 },
 "nbformat": 4,
 "nbformat_minor": 0
}
