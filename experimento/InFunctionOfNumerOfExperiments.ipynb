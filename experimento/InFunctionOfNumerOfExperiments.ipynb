{
 "cells": [
  {
   "cell_type": "markdown",
   "metadata": {},
   "source": [
    "<h1>Experimento</h1>"
   ]
  },
  {
   "cell_type": "code",
   "execution_count": 1,
   "metadata": {
    "collapsed": false
   },
   "outputs": [
    {
     "name": "stdout",
     "output_type": "stream",
     "text": [
      "Populating the interactive namespace from numpy and matplotlib\n"
     ]
    }
   ],
   "source": [
    "%pylab inline\n",
    "import scipy.stats as stats"
   ]
  },
  {
   "cell_type": "markdown",
   "metadata": {},
   "source": [
    "<h2>Propuesta</h2>\n",
    "<p>El experimento propuesto es el siguiente:</p>\n",
    "<ul> \n",
    "<li>Se realiza una marcha aleatoria en una dimensión. La posición inicial es $x = 0$ y cada paso se toma de una distribución nornal con media $0$ y desviación estándar $0.5$. La marcha consiste de 100 pasos.</li>\n",
    "<li>Cada experimento consiste de $n = 1000$ marchas aleatorias, obteniendo así una distribución de posiciones finales que, según el teorema del límite central, deberían comportarse como una normal. En particular, la media de las posiciones finales debería ser 0.</li>\n",
    "<li>Se realiza una prueba de hipótesis para corroborar que hay suficiente evidencia estadística para poder decir que la media es cero. La hipótesis nula es entonces: $$H_0:\\bar{\\mu} = 0$$ La hipótesis alterna es:$$H_1:\\bar{\\mu} \\neq 0$$ Por lo que la prueba de hipótesis es una de dos colas (hecho que será importante a la hora de calcular el $p$ $value$). Se utiliza entonces el estadístico $t$ como se describe en <a href=\"http://stattrek.com/hypothesis-test/mean.aspx?Tutorial=AP\">Stat Trek</a>: $$t = \\frac{\\bar{\\mu} - \\mu}{SE}$$ Donde $$SE = \\frac{s}{\\sqrt{n}}$$ A partir del estadístico $t$, se obtiene finalmente el $p$ $value$ teniendo en cuenta que los grados de libertad son $n-1$</li>\n",
    "<li>Se realizan 1000 de estos experimentos (es decir, 1000 pruebas de hipótesis) para finalmente obtener una distribución para el estadístico $t$ y para el $p$ $value$.</li>\n",
    "</ul>"
   ]
  },
  {
   "cell_type": "code",
   "execution_count": 15,
   "metadata": {
    "collapsed": true
   },
   "outputs": [],
   "source": [
    "num_steps = 100\n",
    "num_repetitions = 1000\n",
    "num_experiments = 1000"
   ]
  },
  {
   "cell_type": "code",
   "execution_count": 22,
   "metadata": {
    "collapsed": false
   },
   "outputs": [],
   "source": [
    "p_values = zeros(num_experiments)\n",
    "t_stats = zeros(num_experiments)\n",
    "\n",
    "mins = zeros(num_experiments)\n",
    "maxs = zeros(num_experiments)\n",
    "averages = zeros(num_experiments)\n",
    "\n",
    "minimum_p = 1000\n",
    "maximum_p = -1000\n",
    "minimum_p_array = zeros(num_repetitions)\n",
    "maximum_p_array = zeros(num_repetitions)\n",
    "\n",
    "for k in range(num_experiments):\n",
    "    final_positions = zeros(num_repetitions)\n",
    "    for i in range(num_repetitions):\n",
    "        x = 0\n",
    "        for j in range(num_steps):\n",
    "            mu, sigma = 0, 0.05\n",
    "            my_step = random.normal(mu, sigma)\n",
    "            x = x + my_step;\n",
    "        final_positions[i] = x\n",
    "    mu_expected = 0\n",
    "    mu_observed = mean(final_positions)\n",
    "    s = std(final_positions)\n",
    "    n = len(final_positions)\n",
    "    t_stat = (mu_observed - mu_expected)/(s/sqrt(n))\n",
    "    #El dos hace referencia a que la prueba de hipotesis es de dos colas\n",
    "    p_values[k] = 2*stats.t.sf(abs(t_stat), n-1)\n",
    "    t_stats[k] = t_stat\n",
    "    mins[k] = min(p_values[:k+1])\n",
    "    maxs[k] = max(p_values[:k+1])\n",
    "    averages[k] = mean(p_values[:k+1])\n",
    "    \n",
    "    if p_values[k] < minimum_p:\n",
    "        minimum_p = p_values[k]\n",
    "        minimum_p_array = final_positions\n",
    "    elif p_values[k] > maximum_p:\n",
    "        maximum_p = p_values[k]\n",
    "        maximum_p_array = final_positions"
   ]
  },
  {
   "cell_type": "markdown",
   "metadata": {},
   "source": [
    "<h2>Distribución de $p$ $values$</h2>\n",
    "<p>Primero, se caracterizan algunas de las propiedades de la distribución (mínimo, máximo, media) en función del número de experimentos. Se observa una gran variación entre el máximo y el mínimo.</p>\n",
    "<p>Si el nivel de significancia de la prueba se toma de $5\\%$, la hipótesis alterna puede recharzarse si el $p$ $value$ es mayor a $0.05$ (se toma mayor y no menor gracias al funcionamiento de stats.t.sf()). Note que el mínimo se acerca peligrosamente a ser menor a tal valor y, como se verá más adelante, puede llegar a serlo."
   ]
  },
  {
   "cell_type": "code",
   "execution_count": 27,
   "metadata": {
    "collapsed": false
   },
   "outputs": [
    {
     "data": {
      "text/plain": [
       "<matplotlib.legend.Legend at 0x10b152e10>"
      ]
     },
     "execution_count": 27,
     "metadata": {},
     "output_type": "execute_result"
    },
    {
     "data": {
      "image/png": "[encoded data removed]",
      "text/plain": [
       "<matplotlib.figure.Figure at 0x10adf2fd0>"
      ]
     },
     "metadata": {},
     "output_type": "display_data"
    }
   ],
   "source": [
    "plot(mins)\n",
    "plot(maxs)\n",
    "plot(averages)\n",
    "xlabel('Numero de Experimentos')\n",
    "ylabel('p value')\n",
    "plt.legend(['minimo', 'maximo', 'promedio'], loc='upper right')"
   ]
  },
  {
   "cell_type": "markdown",
   "metadata": {},
   "source": [
    "<p>Segundo, se oberva la distribución de $p$ $values$, la cual se nota bastante uniforme.</p>"
   ]
  },
  {
   "cell_type": "code",
   "execution_count": 26,
   "metadata": {
    "collapsed": false
   },
   "outputs": [
    {
     "data": {
      "text/plain": [
       "<matplotlib.text.Text at 0x10b2dd1d0>"
      ]
     },
     "execution_count": 26,
     "metadata": {},
     "output_type": "execute_result"
    },
    {
     "data": {
      "image/png": "[encoded data removed]",
      "text/plain": [
       "<matplotlib.figure.Figure at 0x10b21a940>"
      ]
     },
     "metadata": {},
     "output_type": "display_data"
    }
   ],
   "source": [
    "hist(p_values)\n",
    "xlabel('p value')\n",
    "ylabel('Frecuencia')"
   ]
  },
  {
   "cell_type": "markdown",
   "metadata": {},
   "source": [
    "<p>Finalmente, se observan los casos extremos del $p$ $value$: cuando es mínimo y cuando es máximo. En el caso que se presenta, el mínimo alcanza a tener una significancia lo suficientemente pequeña como para poder decir que no se rechaza la hipótesis nula (pues no se cuenta con suficiente evidencia estadística como para hacerlo).</p>"
   ]
  },
  {
   "cell_type": "code",
   "execution_count": 30,
   "metadata": {
    "collapsed": false
   },
   "outputs": [
    {
     "name": "stdout",
     "output_type": "stream",
     "text": [
      "minimo p value: 0.000602121381545\n",
      "media: -0.0532574397523\n",
      "s: 0.489343004981\n"
     ]
    },
    {
     "data": {
      "image/png": "[encoded data removed]",
      "text/plain": [
       "<matplotlib.figure.Figure at 0x10b8982e8>"
      ]
     },
     "metadata": {},
     "output_type": "display_data"
    }
   ],
   "source": [
    "hist(minimum_p_array, bins=30)\n",
    "print('minimo p value: ' + str(minimum_p))\n",
    "print('media: ' + str(mean(minimum_p_array)))\n",
    "print('s: ' + str(std(minimum_p_array)))"
   ]
  },
  {
   "cell_type": "code",
   "execution_count": 31,
   "metadata": {
    "collapsed": false
   },
   "outputs": [
    {
     "name": "stdout",
     "output_type": "stream",
     "text": [
      "maximo p value: 0.998448771819\n",
      "media: 3.13932956857e-05\n",
      "s: 0.510495983879\n"
     ]
    },
    {
     "data": {
      "image/png": "[encoded data removed]",
      "text/plain": [
       "<matplotlib.figure.Figure at 0x10b9a54a8>"
      ]
     },
     "metadata": {},
     "output_type": "display_data"
    }
   ],
   "source": [
    "hist(maximum_p_array, bins=30)\n",
    "print('maximo p value: ' + str(maximum_p))\n",
    "print('media: ' + str(mean(maximum_p_array)))\n",
    "print('s: ' + str(std(maximum_p_array)))"
   ]
  },
  {
   "cell_type": "markdown",
   "metadata": {},
   "source": [
    "<h2>Distribución del estadístico $t$</h2>\n",
    "<p>Se presenta la distribución para el estadístico t.</p>"
   ]
  },
  {
   "cell_type": "code",
   "execution_count": 32,
   "metadata": {
    "collapsed": false
   },
   "outputs": [
    {
     "data": {
      "text/plain": [
       "<matplotlib.text.Text at 0x10bd665c0>"
      ]
     },
     "execution_count": 32,
     "metadata": {},
     "output_type": "execute_result"
    },
    {
     "data": {
      "image/png": "[encoded data removed]",
      "text/plain": [
       "<matplotlib.figure.Figure at 0x10abbeef0>"
      ]
     },
     "metadata": {},
     "output_type": "display_data"
    }
   ],
   "source": [
    "hist(t_stats)\n",
    "xlabel('t')\n",
    "ylabel('Frecuencia')"
   ]
  },
  {
   "cell_type": "markdown",
   "metadata": {},
   "source": [
    "<p>El signo de $t$ indica si la media experimental es menor o mayor a la esperada. Si se quiere tener solamente una idea de la distancia de la media experimental a la esperada, se tiene la siguiente distribución:</p>"
   ]
  },
  {
   "cell_type": "code",
   "execution_count": 33,
   "metadata": {
    "collapsed": false
   },
   "outputs": [
    {
     "data": {
      "text/plain": [
       "<matplotlib.text.Text at 0x10b9a07f0>"
      ]
     },
     "execution_count": 33,
     "metadata": {},
     "output_type": "execute_result"
    },
    {
     "data": {
      "image/png": "[encoded data removed]",
      "text/plain": [
       "<matplotlib.figure.Figure at 0x10b1ebb00>"
      ]
     },
     "metadata": {},
     "output_type": "display_data"
    }
   ],
   "source": [
    "hist(abs(t_stats))\n",
    "xlabel('t')\n",
    "ylabel('Frecuencia')"
   ]
  },
  {
   "cell_type": "code",
   "execution_count": null,
   "metadata": {
    "collapsed": true
   },
   "outputs": [],
   "source": []
  }
 ],
 "metadata": {
  "kernelspec": {
   "display_name": "Python 3",
   "language": "python",
   "name": "python3"
  },
  "language_info": {
   "codemirror_mode": {
    "name": "ipython",
    "version": 3
   },
   "file_extension": ".py",
   "mimetype": "text/x-python",
   "name": "python",
   "nbconvert_exporter": "python",
   "pygments_lexer": "ipython3",
   "version": "3.5.1"
  }
 },
 "nbformat": 4,
 "nbformat_minor": 0
}
