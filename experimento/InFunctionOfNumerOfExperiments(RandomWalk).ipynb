{
 "cells": [
  {
   "cell_type": "code",
   "execution_count": 1,
   "metadata": {
    "collapsed": false
   },
   "outputs": [
    {
     "name": "stdout",
     "output_type": "stream",
     "text": [
      "Populating the interactive namespace from numpy and matplotlib\n"
     ]
    }
   ],
   "source": [
    "%pylab inline\n",
    "import scipy.stats as stats"
   ]
  },
  {
   "cell_type": "code",
   "execution_count": 2,
   "metadata": {
    "collapsed": true
   },
   "outputs": [],
   "source": [
    "num_steps = 1000\n",
    "num_repetitions = 1000\n",
    "num_experiments = 100"
   ]
  },
  {
   "cell_type": "code",
   "execution_count": 3,
   "metadata": {
    "collapsed": false
   },
   "outputs": [],
   "source": [
    "p_values = zeros(num_experiments)\n",
    "mins = zeros(num_experiments)\n",
    "maxs = zeros(num_experiments)\n",
    "averages = zeros(num_experiments)\n",
    "\n",
    "minimum_p = 1000\n",
    "maximum_p = -1000\n",
    "minimum_p_array = zeros(num_repetitions)\n",
    "maximum_p_array = zeros(num_repetitions)\n",
    "\n",
    "for k in range(num_experiments):\n",
    "    final_positions = zeros(num_repetitions)\n",
    "    for i in range(num_repetitions):\n",
    "        x = 0\n",
    "        for j in range(num_steps):\n",
    "            mu, sigma = 0, 0.25\n",
    "            step = random.normal(mu, sigma)\n",
    "            x = x + step;\n",
    "        final_positions[i] = x\n",
    "    p_values[k] = stats.normaltest(final_positions).pvalue\n",
    "    mins[k] = min(p_values[:k+1])\n",
    "    maxs[k] = max(p_values[:k+1])\n",
    "    averages[k] = mean(p_values[:k+1])\n",
    "    \n",
    "    if p_values[k] < minimum_p:\n",
    "        minimum_p = p_values[k]\n",
    "        minimum_p_array = final_positions\n",
    "        #print('papaya')\n",
    "    elif p_values[k] > maximum_p:\n",
    "        maximum_p = p_values[k]\n",
    "        maximum_p_array = final_positions\n",
    "        #print('pera')"
   ]
  },
  {
   "cell_type": "code",
   "execution_count": 4,
   "metadata": {
    "collapsed": false
   },
   "outputs": [
    {
     "data": {
      "text/plain": [
       "<matplotlib.legend.Legend at 0x10a0a5748>"
      ]
     },
     "execution_count": 4,
     "metadata": {},
     "output_type": "execute_result"
    },
    {
     "data": {
      "image/png": "[encoded data removed]",
      "text/plain": [
       "<matplotlib.figure.Figure at 0x10a0ab390>"
      ]
     },
     "metadata": {},
     "output_type": "display_data"
    }
   ],
   "source": [
    "plot(mins)\n",
    "plot(maxs)\n",
    "plot(averages)\n",
    "xlabel('Numero de Experimentos')\n",
    "plt.legend(['minimo', 'maximo', 'promedio'], loc='upper right')"
   ]
  },
  {
   "cell_type": "code",
   "execution_count": 5,
   "metadata": {
    "collapsed": false
   },
   "outputs": [
    {
     "data": {
      "text/plain": [
       "(array([   1.,    0.,    0.,    0.,    0.,    3.,    1.,    1.,   11.,\n",
       "          16.,   22.,   35.,   35.,   68.,   72.,   92.,   99.,  132.,\n",
       "          99.,   79.,   74.,   50.,   47.,   29.,   13.,   12.,    3.,\n",
       "           3.,    2.,    1.]),\n",
       " array([-35.27431712, -33.21695719, -31.15959727, -29.10223735,\n",
       "        -27.04487743, -24.9875175 , -22.93015758, -20.87279766,\n",
       "        -18.81543774, -16.75807781, -14.70071789, -12.64335797,\n",
       "        -10.58599804,  -8.52863812,  -6.4712782 ,  -4.41391828,\n",
       "         -2.35655835,  -0.29919843,   1.75816149,   3.81552141,\n",
       "          5.87288134,   7.93024126,   9.98760118,  12.0449611 ,\n",
       "         14.10232103,  16.15968095,  18.21704087,  20.2744008 ,\n",
       "         22.33176072,  24.38912064,  26.44648056]),\n",
       " <a list of 30 Patch objects>)"
      ]
     },
     "execution_count": 5,
     "metadata": {},
     "output_type": "execute_result"
    },
    {
     "data": {
      "image/png": "[encoded data removed]",
      "text/plain": [
       "<matplotlib.figure.Figure at 0x106ebeac8>"
      ]
     },
     "metadata": {},
     "output_type": "display_data"
    }
   ],
   "source": [
    "hist(minimum_p_array, bins=30)"
   ]
  },
  {
   "cell_type": "code",
   "execution_count": 6,
   "metadata": {
    "collapsed": false
   },
   "outputs": [
    {
     "data": {
      "text/plain": [
       "(array([  2.,   0.,   2.,   3.,   6.,  10.,  15.,  16.,  35.,  41.,  45.,\n",
       "         60.,  68.,  72.,  76.,  85.,  88.,  77.,  72.,  59.,  40.,  42.,\n",
       "         24.,  25.,  15.,   5.,   8.,   4.,   2.,   3.]),\n",
       " array([-25.68190869, -24.0576447 , -22.43338072, -20.80911673,\n",
       "        -19.18485274, -17.56058876, -15.93632477, -14.31206079,\n",
       "        -12.6877968 , -11.06353282,  -9.43926883,  -7.81500485,\n",
       "         -6.19074086,  -4.56647687,  -2.94221289,  -1.3179489 ,\n",
       "          0.30631508,   1.93057907,   3.55484305,   5.17910704,\n",
       "          6.80337102,   8.42763501,  10.051899  ,  11.67616298,\n",
       "         13.30042697,  14.92469095,  16.54895494,  18.17321892,\n",
       "         19.79748291,  21.42174689,  23.04601088]),\n",
       " <a list of 30 Patch objects>)"
      ]
     },
     "execution_count": 6,
     "metadata": {},
     "output_type": "execute_result"
    },
    {
     "data": {
      "image/png": "[encoded data removed]",
      "text/plain": [
       "<matplotlib.figure.Figure at 0x10a13ed68>"
      ]
     },
     "metadata": {},
     "output_type": "display_data"
    }
   ],
   "source": [
    "hist(maximum_p_array, bins=30)"
   ]
  },
  {
   "cell_type": "code",
   "execution_count": null,
   "metadata": {
    "collapsed": true
   },
   "outputs": [],
   "source": []
  }
 ],
 "metadata": {
  "kernelspec": {
   "display_name": "Python 3",
   "language": "python",
   "name": "python3"
  },
  "language_info": {
   "codemirror_mode": {
    "name": "ipython",
    "version": 3
   },
   "file_extension": ".py",
   "mimetype": "text/x-python",
   "name": "python",
   "nbconvert_exporter": "python",
   "pygments_lexer": "ipython3",
   "version": "3.5.1"
  }
 },
 "nbformat": 4,
 "nbformat_minor": 0
}
