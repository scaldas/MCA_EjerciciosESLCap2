{
 "cells": [
  {
   "cell_type": "code",
   "execution_count": 83,
   "metadata": {
    "collapsed": false
   },
   "outputs": [
    {
     "name": "stdout",
     "output_type": "stream",
     "text": [
      "Populating the interactive namespace from numpy and matplotlib\n"
     ]
    }
   ],
   "source": [
    "%pylab inline\n",
    "import pandas as pd\n",
    "from sklearn.cluster import KMeans\n",
    "from sklearn.decomposition import PCA\n",
    "from sklearn.cross_validation import train_test_split\n",
    "from sklearn.ensemble import RandomForestClassifier\n",
    "from sklearn import preprocessing\n",
    "from pandas.tools.plotting import parallel_coordinates\n",
    "from sklearn.metrics import zero_one_loss\n"
   ]
  },
  {
   "cell_type": "markdown",
   "metadata": {},
   "source": [
    "# Importación y procesamiento de datos"
   ]
  },
  {
   "cell_type": "code",
   "execution_count": 104,
   "metadata": {
    "collapsed": false
   },
   "outputs": [],
   "source": [
    "data= pd.DataFrame(pd.read_csv(\"wine.data\", header = None))\n",
    "data.columns = [\"Class\", \"Alcohol\", \"Malic acid\", \"Ash\", \"Alcalinity of ash\", \"Magnesium\", \"Total phenols\", \"Flavanoids\", \"Nonflavanoid phenols\", \"Proanthocyanins\", \"Color intensity\", \"Hue\", \"OD280/OD315 of diluted wines\", \"Proline\"]\n",
    "#data = loadtxt(\"wine.data\", delimiter = \",\")\n",
    "#target = data[:,0]\n",
    "#plt.figure()\n",
    "target = data[\"Class\"]\n",
    "scaled_data = preprocessing.scale(data) #Desviacion estandar = 1 y promedio = 0"
   ]
  },
  {
   "cell_type": "markdown",
   "metadata": {},
   "source": [
    "Transormación de labels para hacer comparación adecuada"
   ]
  },
  {
   "cell_type": "code",
   "execution_count": 36,
   "metadata": {
    "collapsed": false
   },
   "outputs": [],
   "source": [
    "X_train, X_test, Y_train, Y_test = train_test_split(scaled_data, target)"
   ]
  },
  {
   "cell_type": "markdown",
   "metadata": {
    "collapsed": false
   },
   "source": [
    "#K-means clustering "
   ]
  },
  {
   "cell_type": "code",
   "execution_count": 51,
   "metadata": {
    "collapsed": false
   },
   "outputs": [],
   "source": [
    "errors_km = np.zeros(10)\n",
    "for i in range(1,11):\n",
    "    fit_K  = KMeans(n_clusters = i).fit(X_train, Y_train)\n",
    "    errors_km[i-1] = fit_K.inertia_    "
   ]
  },
  {
   "cell_type": "markdown",
   "metadata": {},
   "source": [
    "El error en este caso se define como la distancia total que hay entre los todos los puntos y el centro del cluster más cercano "
   ]
  },
  {
   "cell_type": "code",
   "execution_count": 52,
   "metadata": {
    "collapsed": false
   },
   "outputs": [
    {
     "data": {
      "text/plain": [
       "<matplotlib.text.Text at 0x7fdefcf63550>"
      ]
     },
     "execution_count": 52,
     "metadata": {},
     "output_type": "execute_result"
    },
    {
     "data": {
      "image/png": "[encoded data removed]",
      "text/plain": [
       "<matplotlib.figure.Figure at 0x7fdefcbbe890>"
      ]
     },
     "metadata": {},
     "output_type": "display_data"
    }
   ],
   "source": [
    "x = linspace(1, 10, 10)\n",
    "scatter(x, errors_km)\n",
    "title(\"Error vs No. Clusters\")"
   ]
  },
  {
   "cell_type": "markdown",
   "metadata": {},
   "source": [
    "Se puede ver que al llegar a tres clusters el error disminuye en menor medida cuando se aumenta el número de clusters. Es por esto que el número de clusters óptimo para esta caso sería tres."
   ]
  },
  {
   "cell_type": "code",
   "execution_count": 116,
   "metadata": {
    "collapsed": false
   },
   "outputs": [],
   "source": [
    "km = KMeans(n_clusters = 3)\n",
    "fit = km.fit(X_train, Y_train)\n",
    "predict_km = km.predict(X_test)"
   ]
  },
  {
   "cell_type": "markdown",
   "metadata": {},
   "source": [
    "Teniendo en cuenta que la predicción en de kmeans consiste en agrupar los puntos al cluster más cercano, no se puede hacer una comparación directa entre los labels dados por la función predict() y el target del dataset."
   ]
  },
  {
   "cell_type": "code",
   "execution_count": 117,
   "metadata": {
    "collapsed": false
   },
   "outputs": [],
   "source": [
    "cluster0 = []\n",
    "cluster1 = []\n",
    "cluster2 = []\n",
    "for i in range(len(predict_km)):\n",
    "    cluster = predict_km[i]\n",
    "    if cluster ==  0:\n",
    "        cluster0.append(cluster)\n",
    "    elif cluster == 1:\n",
    "        cluster1.append(cluster)\n",
    "    else:\n",
    "        cluster2.append(cluster)\n",
    "        \n",
    "pct0_test = float(len(cluster0))/float((len(Y_test)))\n",
    "pct1_test = float(len(cluster1))/float((len(Y_test)))\n",
    "pct2_test = float(len(cluster2))/float((len(Y_test)))"
   ]
  },
  {
   "cell_type": "code",
   "execution_count": 118,
   "metadata": {
    "collapsed": true
   },
   "outputs": [],
   "source": [
    "grupo1 = []\n",
    "grupo2 = []\n",
    "grupo3 = []\n",
    "for i in range(len(Y_train)):\n",
    "    grupo = Y_train.iloc[i]\n",
    "    if grupo ==  1:\n",
    "        grupo1.append(grupo)\n",
    "    elif grupo == 2:\n",
    "        grupo2.append(grupo)\n",
    "    else:\n",
    "        grupo3.append(grupo)\n",
    "        \n",
    "pct1_train = float(len(grupo1))/float((len(Y_train)))\n",
    "pct2_train = float(len(grupo2))/float((len(Y_train)))\n",
    "pct3_train = float(len(grupo3))/float((len(Y_train)))\n"
   ]
  },
  {
   "cell_type": "code",
   "execution_count": 119,
   "metadata": {
    "collapsed": false
   },
   "outputs": [
    {
     "name": "stdout",
     "output_type": "stream",
     "text": [
      "0.311111111111 0.444444444444 0.244444444444 0.345864661654 0.443609022556 0.210526315789\n"
     ]
    }
   ],
   "source": [
    "print pct0_test, pct1_test, pct2_test, pct1_train, pct2_train, pct3_train"
   ]
  },
  {
   "cell_type": "markdown",
   "metadata": {},
   "source": [
    "Mirando los porcentajes de los elementos en cada grupo se puede concluir que el cluster 0 corresponde a la clase 2, el cluster 1 a la clase 3 y el cluster 2 a la clase 1."
   ]
  },
  {
   "cell_type": "code",
   "execution_count": 121,
   "metadata": {
    "collapsed": false
   },
   "outputs": [],
   "source": [
    "#Transformación de label de cluster a clase\n",
    "for n,i in enumerate(predict_km):\n",
    "    if i==2:\n",
    "        predict_km[n]=1\n",
    "    elif i ==1:\n",
    "        predict_km[n] = 3\n",
    "    else:\n",
    "        predict_km[n]  = 2"
   ]
  },
  {
   "cell_type": "code",
   "execution_count": 122,
   "metadata": {
    "collapsed": false
   },
   "outputs": [
    {
     "name": "stdout",
     "output_type": "stream",
     "text": [
      "1\n"
     ]
    }
   ],
   "source": [
    "good_class_km = 0\n",
    "for i in range(len(predict_km)):\n",
    "    if predict_km[i] == Y_test.iloc[i]:\n",
    "        good_class += 1\n",
    "print good_class/len(predict_rf)"
   ]
  },
  {
   "cell_type": "markdown",
   "metadata": {},
   "source": [
    "#PCA"
   ]
  },
  {
   "cell_type": "code",
   "execution_count": 49,
   "metadata": {
    "collapsed": false
   },
   "outputs": [
    {
     "data": {
      "text/plain": [
       "<matplotlib.text.Text at 0x7fdefd0ddc10>"
      ]
     },
     "execution_count": 49,
     "metadata": {},
     "output_type": "execute_result"
    },
    {
     "data": {
      "image/png": "[encoded data removed]",
      "text/plain": [
       "<matplotlib.figure.Figure at 0x7fdefcc82950>"
      ]
     },
     "metadata": {},
     "output_type": "display_data"
    }
   ],
   "source": [
    "fit_PCA_test = PCA().fit(X_train, Y_train)\n",
    "PVE = fit_PCA_test.explained_variance_ratio_\n",
    "scatter(range(1,15),PVE)\n",
    "title(\"PVE vs Componentes\")"
   ]
  },
  {
   "cell_type": "markdown",
   "metadata": {},
   "source": [
    "Como se quiere explicar el 95% de la varianza, se puede ver en la gráfica que serán necesarias 4 componentes. Sin embargo, se puede ver que después de la tercera componente cada una de las componentes explica menos del 5%. Esto se observa en la forma en la que la gráfica tiende a saturarse después de la tercera componenente. Es por esto que el número óptimo de componentes sería tres."
   ]
  },
  {
   "cell_type": "code",
   "execution_count": 50,
   "metadata": {
    "collapsed": true
   },
   "outputs": [],
   "source": [
    "fit_PCA = PCA(n_components = 3)\n",
    "fit_PCA.fit(scaled_data)\n",
    "PCA_result = fit_PCA.transform(scaled_data)"
   ]
  },
  {
   "cell_type": "markdown",
   "metadata": {},
   "source": [
    "#Random Forest"
   ]
  },
  {
   "cell_type": "code",
   "execution_count": 79,
   "metadata": {
    "collapsed": false
   },
   "outputs": [],
   "source": [
    "n_trees_total = 50\n",
    "error_rf = np.zeros(n_trees_total)\n",
    "m = 3 #Se toma como el numero de predictores como sqrt(p)\n",
    "for i in range(1,n_trees_total+1):\n",
    "    rf_test = RandomForestClassifier(n_estimators = n_trees_total, max_features =  m)\n",
    "    fit = rf_test.fit(X_train, Y_train)\n",
    "    error_rf[i-1] = fit.oob_score"
   ]
  },
  {
   "cell_type": "code",
   "execution_count": 80,
   "metadata": {
    "collapsed": false
   },
   "outputs": [
    {
     "data": {
      "text/plain": [
       "<matplotlib.collections.PathCollection at 0x7fdefc922cd0>"
      ]
     },
     "execution_count": 80,
     "metadata": {},
     "output_type": "execute_result"
    },
    {
     "data": {
      "image/png": "[encoded data removed]",
      "text/plain": [
       "<matplotlib.figure.Figure at 0x7fdefc654490>"
      ]
     },
     "metadata": {},
     "output_type": "display_data"
    }
   ],
   "source": [
    "x = linspace(1, n_trees_total+1, n_trees_total)\n",
    "scatter(x, error_rf)"
   ]
  },
  {
   "cell_type": "markdown",
   "metadata": {},
   "source": [
    "La gráfica sugiere que sin importar el número de árboles se logrará una clasificación perfecta de los datos de entrenamiento."
   ]
  },
  {
   "cell_type": "code",
   "execution_count": 81,
   "metadata": {
    "collapsed": true
   },
   "outputs": [],
   "source": [
    "rf = RandomForestClassifier(n_estimators=n_trees_total, max_features=3)\n",
    "fit_rf = rf.fit(X_train, Y_train) \n",
    "predict_rf = rf.predict(X_test)"
   ]
  },
  {
   "cell_type": "markdown",
   "metadata": {
    "collapsed": true
   },
   "source": [
    "Conteo de classificacion correcta"
   ]
  },
  {
   "cell_type": "code",
   "execution_count": 91,
   "metadata": {
    "collapsed": false
   },
   "outputs": [
    {
     "name": "stdout",
     "output_type": "stream",
     "text": [
      "1\n"
     ]
    }
   ],
   "source": [
    "good_class = 0\n",
    "for i in range(len(predict_rf)):\n",
    "    if predict_rf[i] == Y_test.iloc[i]:\n",
    "        good_class += 1\n",
    "print good_class/len(predict_rf)"
   ]
  },
  {
   "cell_type": "markdown",
   "metadata": {},
   "source": [
    "El resultado muestra que usando random forest se logra una clasificación perfecta de los datos de prueba."
   ]
  },
  {
   "cell_type": "markdown",
   "metadata": {},
   "source": [
    "#SVM"
   ]
  },
  {
   "cell_type": "code",
   "execution_count": null,
   "metadata": {
    "collapsed": true
   },
   "outputs": [],
   "source": []
  }
 ],
 "metadata": {
  "kernelspec": {
   "display_name": "Python 2",
   "language": "python",
   "name": "python2"
  },
  "language_info": {
   "codemirror_mode": {
    "name": "ipython",
    "version": 2
   },
   "file_extension": ".py",
   "mimetype": "text/x-python",
   "name": "python",
   "nbconvert_exporter": "python",
   "pygments_lexer": "ipython2",
   "version": "2.7.10"
  }
 },
 "nbformat": 4,
 "nbformat_minor": 0
}
