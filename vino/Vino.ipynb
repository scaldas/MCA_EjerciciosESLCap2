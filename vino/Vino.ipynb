{
 "cells": [
  {
   "cell_type": "code",
   "execution_count": 2,
   "metadata": {
    "collapsed": false
   },
   "outputs": [
    {
     "name": "stdout",
     "output_type": "stream",
     "text": [
      "Populating the interactive namespace from numpy and matplotlib\n"
     ]
    },
    {
     "name": "stderr",
     "output_type": "stream",
     "text": [
      ":0: FutureWarning: IPython widgets are experimental and may change in the future.\n"
     ]
    }
   ],
   "source": [
    "%pylab inline\n",
    "import pandas as pd\n",
    "from sklearn.cross_validation import train_test_split\n",
    "from sklearn import preprocessing\n",
    "import seaborn as sea"
   ]
  },
  {
   "cell_type": "markdown",
   "metadata": {},
   "source": [
    "# Importación y procesamiento de datos"
   ]
  },
  {
   "cell_type": "code",
   "execution_count": 3,
   "metadata": {
    "collapsed": false
   },
   "outputs": [],
   "source": [
    "data= pd.DataFrame(pd.read_csv(\"wine.data\", header = None))\n",
    "data.columns = [\"Class\", \"Alcohol\", \"Malic acid\", \"Ash\", \"Alcalinity of ash\", \"Magnesium\", \"Total phenols\", \"Flavanoids\", \"Nonflavanoid phenols\", \"Proanthocyanins\", \"Color intensity\", \"Hue\", \"OD280/OD315 of diluted wines\", \"Proline\"]\n",
    "target = data[\"Class\"]\n",
    "del data[\"Class\"]\n",
    "scaled_data = preprocessing.scale(data) #Desviacion estandar = 1 y promedio = 0"
   ]
  },
  {
   "cell_type": "code",
   "execution_count": 4,
   "metadata": {
    "collapsed": false
   },
   "outputs": [],
   "source": [
    "X_train, X_test, Y_train, Y_test = train_test_split(scaled_data, target)"
   ]
  },
  {
   "cell_type": "markdown",
   "metadata": {
    "collapsed": false
   },
   "source": [
    "#K-means clustering "
   ]
  },
  {
   "cell_type": "code",
   "execution_count": 5,
   "metadata": {
    "collapsed": true
   },
   "outputs": [],
   "source": [
    "from sklearn.cluster import KMeans"
   ]
  },
  {
   "cell_type": "markdown",
   "metadata": {},
   "source": [
    "##Optimización de parámetros del modelo"
   ]
  },
  {
   "cell_type": "code",
   "execution_count": 6,
   "metadata": {
    "collapsed": false
   },
   "outputs": [],
   "source": [
    "errors_km = np.zeros(10)\n",
    "for i in range(1,11):\n",
    "    fit_K  = KMeans(n_clusters = i).fit(X_train, Y_train)\n",
    "    errors_km[i-1] = fit_K.inertia_    "
   ]
  },
  {
   "cell_type": "markdown",
   "metadata": {},
   "source": [
    "El error en este caso se define como la distancia total que hay entre los todos los puntos y el centro del cluster más cercano "
   ]
  },
  {
   "cell_type": "code",
   "execution_count": 7,
   "metadata": {
    "collapsed": false
   },
   "outputs": [
    {
     "data": {
      "text/plain": [
       "<matplotlib.text.Text at 0xabdb5b0c>"
      ]
     },
     "execution_count": 7,
     "metadata": {},
     "output_type": "execute_result"
    },
    {
     "data": {
      "image/png": "[encoded data removed]",
      "text/plain": [
       "<matplotlib.figure.Figure at 0xad80922c>"
      ]
     },
     "metadata": {},
     "output_type": "display_data"
    }
   ],
   "source": [
    "x = linspace(1, 10, 10)\n",
    "scatter(x, errors_km)\n",
    "title(\"Error vs No. Clusters\")"
   ]
  },
  {
   "cell_type": "markdown",
   "metadata": {},
   "source": [
    "Se puede ver que al llegar a tres clusters el error disminuye en menor medida cuando se aumenta el número de clusters. Es por esto que el número de clusters óptimo para esta caso sería tres."
   ]
  },
  {
   "cell_type": "markdown",
   "metadata": {},
   "source": [
    "##Clasificación"
   ]
  },
  {
   "cell_type": "code",
   "execution_count": 8,
   "metadata": {
    "collapsed": false
   },
   "outputs": [],
   "source": [
    "km = KMeans(n_clusters = 3)\n",
    "fit = km.fit(X_train, Y_train)\n",
    "predict_km = km.predict(X_test)"
   ]
  },
  {
   "cell_type": "markdown",
   "metadata": {},
   "source": [
    "##Validación de KMeans Clustering"
   ]
  },
  {
   "cell_type": "markdown",
   "metadata": {},
   "source": [
    "Teniendo en cuenta que la predicción de kmeans consiste en agrupar los puntos al cluster más cercano, no se puede hacer una comparación directa entre los labels dados por la función predict() y el target del dataset. Es por esto que para encontrar qué proporción de puntos fue clasificado correctamente se mostrarán gráficas en las que se podrán ver cuántos puntos fueron clasificados de manera incorrecta."
   ]
  },
  {
   "cell_type": "code",
   "execution_count": 9,
   "metadata": {
    "collapsed": false
   },
   "outputs": [],
   "source": [
    "index_km = Y_test.index.values\n",
    "results_km = pd.concat([Y_test, pd.DataFrame(data =predict_km, index = index_km, columns = [\"Cluster\"])], axis=1)"
   ]
  },
  {
   "cell_type": "code",
   "execution_count": 10,
   "metadata": {
    "collapsed": false
   },
   "outputs": [
    {
     "data": {
      "text/plain": [
       "<matplotlib.text.Text at 0xabc7fbac>"
      ]
     },
     "execution_count": 10,
     "metadata": {},
     "output_type": "execute_result"
    },
    {
     "data": {
      "image/png": "[encoded data removed]",
      "text/plain": [
       "<matplotlib.figure.Figure at 0xabdd9aec>"
      ]
     },
     "metadata": {},
     "output_type": "display_data"
    }
   ],
   "source": [
    "sea.countplot(x= \"Class\", hue = \"Cluster\", data= results_km)\n",
    "title(\"Clasificacion de puntos\")"
   ]
  },
  {
   "cell_type": "markdown",
   "metadata": {},
   "source": [
    "En la gráfica se puede ver cuántos puntos se clasificaron incorrectamente."
   ]
  },
  {
   "cell_type": "code",
   "execution_count": 11,
   "metadata": {
    "collapsed": true
   },
   "outputs": [],
   "source": [
    "grouped_km = results_km.groupby([\"Class\"])\n",
    "class1 = grouped_km.get_group(1)\n",
    "class2 = grouped_km.get_group(2)\n",
    "class3 = grouped_km.get_group(3)"
   ]
  },
  {
   "cell_type": "code",
   "execution_count": 12,
   "metadata": {
    "collapsed": false
   },
   "outputs": [],
   "source": [
    "cluster_label1 = class1['Cluster'].value_counts().idxmax()\n",
    "cluster_label2 = class2['Cluster'].value_counts().idxmax()\n",
    "cluster_label3 = class3['Cluster'].value_counts().idxmax()"
   ]
  },
  {
   "cell_type": "code",
   "execution_count": 13,
   "metadata": {
    "collapsed": false
   },
   "outputs": [
    {
     "name": "stdout",
     "output_type": "stream",
     "text": [
      "Eficiencia KMeans clustering:95.56%\n"
     ]
    }
   ],
   "source": [
    "err_km = 0\n",
    "for i in range(len(class1)):\n",
    "    if class1[\"Cluster\"].iloc[i] != cluster_label1:\n",
    "        err_km += 1\n",
    "for i in range(len(class2)):\n",
    "    if class2[\"Cluster\"].iloc[i] != cluster_label2:\n",
    "        err_km += 1\n",
    "for i in range(len(class3)):\n",
    "    if class3[\"Cluster\"].iloc[i] != cluster_label3:\n",
    "        err_km += 1     \n",
    "eff_km = float(len(predict_km) - err_km)/float(len(predict_km))\n",
    "print(\"Eficiencia KMeans clustering:{0:.2f}%\".format(eff_km*100))"
   ]
  },
  {
   "cell_type": "markdown",
   "metadata": {},
   "source": [
    "#PCA"
   ]
  },
  {
   "cell_type": "code",
   "execution_count": 14,
   "metadata": {
    "collapsed": true
   },
   "outputs": [],
   "source": [
    "from sklearn.decomposition import PCA"
   ]
  },
  {
   "cell_type": "markdown",
   "metadata": {},
   "source": [
    "##Optimización de parámetros del modelo"
   ]
  },
  {
   "cell_type": "code",
   "execution_count": 15,
   "metadata": {
    "collapsed": false
   },
   "outputs": [
    {
     "data": {
      "text/plain": [
       "<matplotlib.text.Text at 0xabba9fcc>"
      ]
     },
     "execution_count": 15,
     "metadata": {},
     "output_type": "execute_result"
    },
    {
     "data": {
      "image/png": "[encoded data removed]",
      "text/plain": [
       "<matplotlib.figure.Figure at 0xabbe43cc>"
      ]
     },
     "metadata": {},
     "output_type": "display_data"
    }
   ],
   "source": [
    "fit_PCA_test = PCA().fit(X_train, Y_train)\n",
    "PVE = fit_PCA_test.explained_variance_ratio_\n",
    "scatter(range(1,14),PVE)\n",
    "title(\"PVE vs Componentes\")"
   ]
  },
  {
   "cell_type": "markdown",
   "metadata": {},
   "source": [
    "Como se quiere explicar el 95% de la varianza, se puede ver en la gráfica que serán necesarias 4 componentes. Sin embargo, se puede ver que después de la tercera componente cada una de las componentes explica menos del 5%. Esto se observa en la forma en la que la gráfica tiende a saturarse después de la tercera componenente. Es por esto que el número óptimo de componentes sería tres."
   ]
  },
  {
   "cell_type": "markdown",
   "metadata": {},
   "source": [
    "##Clasificación"
   ]
  },
  {
   "cell_type": "markdown",
   "metadata": {},
   "source": [
    "Es importante anotar que no se puede usar únicamente PCA para clasificación. Es por esto que se usará una reducción de dimensiones usando PCA y después se clasificará usando KMeans clustering."
   ]
  },
  {
   "cell_type": "code",
   "execution_count": 16,
   "metadata": {
    "collapsed": true
   },
   "outputs": [],
   "source": [
    "fit_PCA = PCA(n_components = 3)\n",
    "fit_PCA.fit(scaled_data)\n",
    "PCA_result = fit_PCA.transform(scaled_data)"
   ]
  },
  {
   "cell_type": "code",
   "execution_count": 17,
   "metadata": {
    "collapsed": false
   },
   "outputs": [],
   "source": [
    "scaled_PCA = preprocessing.scale(PCA_result)\n",
    "X_train_pca, X_test_pca, Y_train_pca, Y_test_pca = train_test_split(scaled_PCA, target)"
   ]
  },
  {
   "cell_type": "code",
   "execution_count": 18,
   "metadata": {
    "collapsed": true
   },
   "outputs": [],
   "source": [
    "km_pca = KMeans(n_clusters = 3)\n",
    "fit_pca_km = km.fit(X_train_pca, Y_train_pca)\n",
    "predict_km_pca = km.predict(X_test_pca)"
   ]
  },
  {
   "cell_type": "markdown",
   "metadata": {},
   "source": [
    "##Validación de PCA con KMeans clustering"
   ]
  },
  {
   "cell_type": "code",
   "execution_count": 57,
   "metadata": {
    "collapsed": false
   },
   "outputs": [],
   "source": [
    "index_km_pca = Y_test_pca.index.values\n",
    "results_km_pca = pd.concat([Y_test_pca, pd.DataFrame(data =predict_km_pca, index = index_km_pca, columns = [\"Cluster\"])], axis=1)"
   ]
  },
  {
   "cell_type": "code",
   "execution_count": 58,
   "metadata": {
    "collapsed": false
   },
   "outputs": [
    {
     "data": {
      "text/plain": [
       "<matplotlib.text.Text at 0xab7aabcc>"
      ]
     },
     "execution_count": 58,
     "metadata": {},
     "output_type": "execute_result"
    },
    {
     "data": {
      "image/png": "[encoded data removed]",
      "text/plain": [
       "<matplotlib.figure.Figure at 0xab726e6c>"
      ]
     },
     "metadata": {},
     "output_type": "display_data"
    }
   ],
   "source": [
    "sea.countplot(x= \"Class\", hue = \"Cluster\", data= results_km_pca)\n",
    "title(\"Clasificacion de puntos\")"
   ]
  },
  {
   "cell_type": "code",
   "execution_count": 123,
   "metadata": {
    "collapsed": false
   },
   "outputs": [],
   "source": [
    "grouped_km_pca = results_km_pca.groupby([\"Class\"])\n",
    "class1_pca = grouped_km_pca.get_group(1)\n",
    "class2_pca = grouped_km_pca.get_group(2)\n",
    "class3_pca = grouped_km_pca.get_group(3)"
   ]
  },
  {
   "cell_type": "code",
   "execution_count": 124,
   "metadata": {
    "collapsed": true
   },
   "outputs": [],
   "source": [
    "pcacluster_label1 = class1_pca['Cluster'].value_counts().idxmax()\n",
    "pcacluster_label2 = class2_pca['Cluster'].value_counts().idxmax()\n",
    "pcacluster_label3 = class3_pca['Cluster'].value_counts().idxmax()"
   ]
  },
  {
   "cell_type": "code",
   "execution_count": 127,
   "metadata": {
    "collapsed": false
   },
   "outputs": [
    {
     "name": "stdout",
     "output_type": "stream",
     "text": [
      "Eficiencia KMeans clustering con PCA:95.56%\n"
     ]
    }
   ],
   "source": [
    "err_km_pca = 0\n",
    "for i in range(len(class1)):\n",
    "    if class1[\"Cluster\"].iloc[i] != cluster_label1:\n",
    "        err_km_pca += 1\n",
    "for i in range(len(class2)):\n",
    "    if class2[\"Cluster\"].iloc[i] != cluster_label2:\n",
    "        err_km_pca += 1\n",
    "for i in range(len(class3)):\n",
    "    if class3[\"Cluster\"].iloc[i] != cluster_label3:\n",
    "        err_km_pca += 1     \n",
    "eff_km_pca = float(len(predict_km_pca) - err_km_pca)/float(len(predict_km_pca))\n",
    "print(\"Eficiencia KMeans clustering con PCA:{0:.2f}%\".format(eff_km_pca*100))"
   ]
  },
  {
   "cell_type": "markdown",
   "metadata": {},
   "source": [
    "#Random Forest"
   ]
  },
  {
   "cell_type": "code",
   "execution_count": 60,
   "metadata": {
    "collapsed": true
   },
   "outputs": [],
   "source": [
    "from sklearn.ensemble import RandomForestClassifier"
   ]
  },
  {
   "cell_type": "markdown",
   "metadata": {},
   "source": [
    "##Optimización de parámetros del modelo"
   ]
  },
  {
   "cell_type": "code",
   "execution_count": 65,
   "metadata": {
    "collapsed": false
   },
   "outputs": [],
   "source": [
    "n_trees_total = 50\n",
    "error_rf = np.zeros(n_trees_total)\n",
    "m = 3 #Se toma como el numero de predictores como sqrt(p)\n",
    "for i in range(1,n_trees_total+1):\n",
    "    rf_test = RandomForestClassifier(n_estimators = n_trees_total, max_features =  m)\n",
    "    fit = rf_test.fit(X_train, Y_train)\n",
    "    error_rf[i-1] = fit.oob_score"
   ]
  },
  {
   "cell_type": "code",
   "execution_count": 80,
   "metadata": {
    "collapsed": false
   },
   "outputs": [
    {
     "data": {
      "text/plain": [
       "<matplotlib.text.Text at 0xab56f1ec>"
      ]
     },
     "execution_count": 80,
     "metadata": {},
     "output_type": "execute_result"
    },
    {
     "data": {
      "image/png": "[encoded data removed]",
      "text/plain": [
       "<matplotlib.figure.Figure at 0xab4338ec>"
      ]
     },
     "metadata": {},
     "output_type": "display_data"
    }
   ],
   "source": [
    "x = linspace(1, n_trees_total+1, n_trees_total)\n",
    "scatter(x, error_rf)\n",
    "title(\"Error vs. Numero de arboles\")"
   ]
  },
  {
   "cell_type": "markdown",
   "metadata": {},
   "source": [
    "La gráfica sugiere que sin importar el número de árboles se obtendrá el mismo error en la clasificación para estos datos."
   ]
  },
  {
   "cell_type": "markdown",
   "metadata": {},
   "source": [
    "##Clasificación"
   ]
  },
  {
   "cell_type": "code",
   "execution_count": 67,
   "metadata": {
    "collapsed": true
   },
   "outputs": [],
   "source": [
    "rf = RandomForestClassifier(n_estimators=n_trees_total, max_features=3)\n",
    "fit_rf = rf.fit(X_train, Y_train) \n",
    "predict_rf = rf.predict(X_test)"
   ]
  },
  {
   "cell_type": "markdown",
   "metadata": {
    "collapsed": true
   },
   "source": [
    "##Validación RandomForestClassifier"
   ]
  },
  {
   "cell_type": "code",
   "execution_count": 76,
   "metadata": {
    "collapsed": false
   },
   "outputs": [
    {
     "name": "stdout",
     "output_type": "stream",
     "text": [
      "Eficiencia Random Forest:97.78%\n"
     ]
    }
   ],
   "source": [
    "good_class_rf = 0\n",
    "for i in range(len(predict_rf)):\n",
    "    if predict_rf[i] == Y_test.iloc[i]:\n",
    "        good_class_rf += 1\n",
    "eff_rf = float(good_class_rf)/float(len(predict_rf))\n",
    "print(\"Eficiencia Random Forest:{0:.2f}%\".format(eff_rf*100))"
   ]
  },
  {
   "cell_type": "markdown",
   "metadata": {},
   "source": [
    "#SVM"
   ]
  },
  {
   "cell_type": "code",
   "execution_count": null,
   "metadata": {
    "collapsed": true
   },
   "outputs": [],
   "source": []
  }
 ],
 "metadata": {
  "kernelspec": {
   "display_name": "Python 2",
   "language": "python",
   "name": "python2"
  },
  "language_info": {
   "codemirror_mode": {
    "name": "ipython",
    "version": 2
   },
   "file_extension": ".py",
   "mimetype": "text/x-python",
   "name": "python",
   "nbconvert_exporter": "python",
   "pygments_lexer": "ipython2",
   "version": "2.7.11"
  }
 },
 "nbformat": 4,
 "nbformat_minor": 0
}
