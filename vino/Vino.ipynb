{
 "cells": [
  {
   "cell_type": "code",
   "execution_count": 41,
   "metadata": {
    "collapsed": false
   },
   "outputs": [
    {
     "name": "stdout",
     "output_type": "stream",
     "text": [
      "Populating the interactive namespace from numpy and matplotlib\n"
     ]
    }
   ],
   "source": [
    "%pylab inline\n",
    "import pandas as pd\n",
    "from sklearn.cluster import KMeans\n",
    "from sklearn.decomposition import PCA\n",
    "from sklearn.metrics import zero_one_loss\n",
    "from sklearn.ensemble import RandomForestClassifier\n",
    "from sklearn import preprocessing\n"
   ]
  },
  {
   "cell_type": "markdown",
   "metadata": {},
   "source": [
    "# Importación y procesamiento de datos"
   ]
  },
  {
   "cell_type": "code",
   "execution_count": 68,
   "metadata": {
    "collapsed": false
   },
   "outputs": [],
   "source": [
    "#data = pd.DataFrame(pd.read_csv(\"wine.data\", header = None))\n",
    "#data.columns = [\"Class\", \"Alcohol\", \"Malic acid\", \"Ash\", \"Alcalinity of ash\", \"Magnesium\", \"Total phenols\", \"Flavanoids\", \"Nonflavanoid phenols\", \"Proanthocyanins\", \"Color intensity\", \"Hue\", \"OD280/OD315 of diluted wines\", \"Proline\"]\n",
    "data = loadtxt(\"wine.data\", delimiter = \",\")\n",
    "target = data[:,0]\n",
    "scaled_data = preprocessing.scale(data) #Desviacion estandar = 1 y promedio = 0"
   ]
  },
  {
   "cell_type": "markdown",
   "metadata": {},
   "source": [
    "Transormación de labels para hacer comparación adecuada"
   ]
  },
  {
   "cell_type": "code",
   "execution_count": 69,
   "metadata": {
    "collapsed": false
   },
   "outputs": [
    {
     "data": {
      "text/plain": [
       "'for n,i in enumerate(target):\\n    if i==2:\\n        target[n]=1\\n    elif i ==1:\\n        target[n] = 2\\n    else:\\n        target[n]  = 0'"
      ]
     },
     "execution_count": 69,
     "metadata": {},
     "output_type": "execute_result"
    }
   ],
   "source": [
    "target -= 1\n",
    "'''for n,i in enumerate(target):\n",
    "    if i==2:\n",
    "        target[n]=1\n",
    "    elif i ==1:\n",
    "        target[n] = 2\n",
    "    else:\n",
    "        target[n]  = 0'''\n",
    "        "
   ]
  },
  {
   "cell_type": "code",
   "execution_count": 70,
   "metadata": {
    "collapsed": true
   },
   "outputs": [],
   "source": [
    "X_train, X_test, Y_train, Y_test = train_test_split(scaled_data, target)"
   ]
  },
  {
   "cell_type": "markdown",
   "metadata": {
    "collapsed": false
   },
   "source": [
    "#K-means clustering "
   ]
  },
  {
   "cell_type": "code",
   "execution_count": 4,
   "metadata": {
    "collapsed": false
   },
   "outputs": [],
   "source": [
    "errors = np.zeros(10)\n",
    "for i in range(1,11):\n",
    "    fit_K  = KMeans(n_clusters = i).fit(scaled_data)\n",
    "    errors[i-1] = fit_K.inertia_ \n",
    "   "
   ]
  },
  {
   "cell_type": "markdown",
   "metadata": {},
   "source": [
    "El error en este caso se define como la distancia total que hay entre los todos los puntos y el centro del cluster más cercano "
   ]
  },
  {
   "cell_type": "code",
   "execution_count": 5,
   "metadata": {
    "collapsed": false
   },
   "outputs": [
    {
     "data": {
      "text/plain": [
       "<matplotlib.text.Text at 0xacf5758c>"
      ]
     },
     "execution_count": 5,
     "metadata": {},
     "output_type": "execute_result"
    },
    {
     "data": {
      "image/png": "[encoded data removed]",
      "text/plain": [
       "<matplotlib.figure.Figure at 0xad03478c>"
      ]
     },
     "metadata": {},
     "output_type": "display_data"
    }
   ],
   "source": [
    "x = linspace(1, 10, 10)\n",
    "scatter(x, errors)\n",
    "title(\"Error vs No. Clusters\")"
   ]
  },
  {
   "cell_type": "markdown",
   "metadata": {},
   "source": [
    "Se puede ver que al llegar a tres clusters el error disminuye en menor medida cuando se aumenta el número de clusters. Es por esto que el número de clusters óptimo para esta caso sería tres."
   ]
  },
  {
   "cell_type": "code",
   "execution_count": 71,
   "metadata": {
    "collapsed": false
   },
   "outputs": [
    {
     "name": "stdout",
     "output_type": "stream",
     "text": [
      "0.777777777778\n",
      "[2 2 0 1 0 1 1 1 1 0 0 1 0 1 0 1 0 2 1 0 1 0 1 0 2 2 2 1 1 1 0 2 0 0 0 0 1\n",
      " 2 0 1 1 0 0 2 1] [ 2.  2.  1.  0.  1.  0.  0.  1.  0.  1.  1.  0.  1.  0.  1.  0.  1.  2.\n",
      "  0.  1.  0.  1.  0.  1.  2.  2.  2.  0.  0.  0.  1.  2.  1.  1.  1.  1.\n",
      "  0.  2.  1.  0.  0.  1.  1.  2.  0.]\n"
     ]
    }
   ],
   "source": [
    "km = KMeans(n_clusters = 3)\n",
    "fit = km.fit(X_train, Y_train)\n",
    "predict_km = km.predict(X_test) \n",
    "print zero_one_loss(predict_km, Y_test)\n",
    "print predict_km, Y_test"
   ]
  },
  {
   "cell_type": "markdown",
   "metadata": {},
   "source": [
    "**Revisar cómo cambiar los labels para hacer la comparación apropiada. En principio estaría clasificando bien la mayoría de puntos**"
   ]
  },
  {
   "cell_type": "markdown",
   "metadata": {},
   "source": [
    "#PCA"
   ]
  },
  {
   "cell_type": "code",
   "execution_count": 7,
   "metadata": {
    "collapsed": false
   },
   "outputs": [
    {
     "data": {
      "text/plain": [
       "<matplotlib.text.Text at 0xacebc62c>"
      ]
     },
     "execution_count": 7,
     "metadata": {},
     "output_type": "execute_result"
    },
    {
     "data": {
      "image/png": "[encoded data removed]",
      "text/plain": [
       "<matplotlib.figure.Figure at 0xacf2fcac>"
      ]
     },
     "metadata": {},
     "output_type": "display_data"
    }
   ],
   "source": [
    "fit_PCA_test = PCA().fit(scaled_data)\n",
    "PVE = fit_PCA_test.explained_variance_ratio_\n",
    "scatter(range(1,14),PVE)\n",
    "title(\"PVE vs Componentes\")"
   ]
  },
  {
   "cell_type": "markdown",
   "metadata": {},
   "source": [
    "Como se quiere explicar el 95% de la varianza, se puede ver en la gráfica que serán necesarias 4 componentes. Sin embargo, se puede ver que después de la tercera componente cada una de las componentes explica menos del 5%. Esto se observa en la forma en la que la gráfica tiende a saturarse después de la tercera componenente. Es por esto que el número óptimo de componentes sería tres."
   ]
  },
  {
   "cell_type": "code",
   "execution_count": 8,
   "metadata": {
    "collapsed": true
   },
   "outputs": [],
   "source": [
    "fit_PCA = PCA(n_components = 3)\n",
    "fit_PCA.fit(scaled_data)\n",
    "PCA_result = fit_PCA.transform(scaled_data)"
   ]
  },
  {
   "cell_type": "markdown",
   "metadata": {},
   "source": [
    "#Random Forest"
   ]
  },
  {
   "cell_type": "code",
   "execution_count": 14,
   "metadata": {
    "collapsed": false
   },
   "outputs": [],
   "source": [
    "n_trees_total = 50\n",
    "m = 3 #Se toma como el numero de predictores como sqrt(p)\n",
    "for i in range(n_trees_total):\n",
    "    rf = RandomForestClassifier(n_estimators = 50, max_features =  m)\n",
    "    rf.fit(X_train, Y_train)\n",
    "    prediction = rf.predict(X_test)\n",
    "    "
   ]
  },
  {
   "cell_type": "markdown",
   "metadata": {},
   "source": [
    "**Revisar cómo transformar target correctamente para poder encontrar el número óptimo de árboles**"
   ]
  },
  {
   "cell_type": "code",
   "execution_count": null,
   "metadata": {
    "collapsed": true
   },
   "outputs": [],
   "source": []
  }
 ],
 "metadata": {
  "kernelspec": {
   "display_name": "Python 2",
   "language": "python",
   "name": "python2"
  },
  "language_info": {
   "codemirror_mode": {
    "name": "ipython",
    "version": 2
   },
   "file_extension": ".py",
   "mimetype": "text/x-python",
   "name": "python",
   "nbconvert_exporter": "python",
   "pygments_lexer": "ipython2",
   "version": "2.7.9"
  }
 },
 "nbformat": 4,
 "nbformat_minor": 0
}
