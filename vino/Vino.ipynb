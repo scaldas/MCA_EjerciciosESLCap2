{
 "cells": [
  {
   "cell_type": "code",
   "execution_count": 1,
   "metadata": {
    "collapsed": false
   },
   "outputs": [
    {
     "name": "stdout",
     "output_type": "stream",
     "text": [
      "Populating the interactive namespace from numpy and matplotlib\n"
     ]
    },
    {
     "name": "stderr",
     "output_type": "stream",
     "text": [
      ":0: FutureWarning: IPython widgets are experimental and may change in the future.\n"
     ]
    }
   ],
   "source": [
    "%pylab inline\n",
    "import pandas as pd\n",
    "from sklearn.cross_validation import train_test_split\n",
    "from sklearn import preprocessing\n",
    "import seaborn as sea"
   ]
  },
  {
   "cell_type": "markdown",
   "metadata": {},
   "source": [
    "# Importación y procesamiento de datos"
   ]
  },
  {
   "cell_type": "code",
   "execution_count": 2,
   "metadata": {
    "collapsed": false
   },
   "outputs": [],
   "source": [
    "data= pd.DataFrame(pd.read_csv(\"wine.data\", header = None))\n",
    "data.columns = [\"Class\", \"Alcohol\", \"Malic acid\", \"Ash\", \"Alcalinity of ash\", \"Magnesium\", \"Total phenols\", \"Flavanoids\", \"Nonflavanoid phenols\", \"Proanthocyanins\", \"Color intensity\", \"Hue\", \"OD280/OD315 of diluted wines\", \"Proline\"]\n",
    "target = data[\"Class\"]\n",
    "del data[\"Class\"]\n",
    "scaled_data = preprocessing.scale(data) #Desviacion estandar = 1 y promedio = 0"
   ]
  },
  {
   "cell_type": "code",
   "execution_count": 3,
   "metadata": {
    "collapsed": false
   },
   "outputs": [],
   "source": [
    "X_train, X_test, Y_train, Y_test = train_test_split(scaled_data, target)"
   ]
  },
  {
   "cell_type": "markdown",
   "metadata": {
    "collapsed": false
   },
   "source": [
    "#K-means clustering "
   ]
  },
  {
   "cell_type": "code",
   "execution_count": 4,
   "metadata": {
    "collapsed": true
   },
   "outputs": [],
   "source": [
    "from sklearn.cluster import KMeans"
   ]
  },
  {
   "cell_type": "markdown",
   "metadata": {},
   "source": [
    "##Optimización de parámetros del modelo"
   ]
  },
  {
   "cell_type": "code",
   "execution_count": 5,
   "metadata": {
    "collapsed": false
   },
   "outputs": [],
   "source": [
    "errors_km = np.zeros(10)\n",
    "for i in range(1,11):\n",
    "    fit_K  = KMeans(n_clusters = i).fit(X_train, Y_train)\n",
    "    errors_km[i-1] = fit_K.inertia_    "
   ]
  },
  {
   "cell_type": "markdown",
   "metadata": {},
   "source": [
    "El error en este caso se define como la distancia total que hay entre los todos los puntos y el centro del cluster más cercano "
   ]
  },
  {
   "cell_type": "code",
   "execution_count": 46,
   "metadata": {
    "collapsed": false
   },
   "outputs": [
    {
     "data": {
      "text/plain": [
       "<matplotlib.text.Text at 0xab97d2ec>"
      ]
     },
     "execution_count": 46,
     "metadata": {},
     "output_type": "execute_result"
    },
    {
     "data": {
      "image/png": "[encoded data removed]",
      "text/plain": [
       "<matplotlib.figure.Figure at 0xabb6058c>"
      ]
     },
     "metadata": {},
     "output_type": "display_data"
    }
   ],
   "source": [
    "x = linspace(1, 10, 10)\n",
    "scatter(x, errors_km)\n",
    "title(\"Error vs No. Clusters\")\n",
    "xlabel(\"# de clusters\")\n",
    "ylabel(\"Error\")"
   ]
  },
  {
   "cell_type": "markdown",
   "metadata": {},
   "source": [
    "Se puede ver que al llegar a tres clusters el error se satura y por cada cluster extra el error disminuye en menos medida. Es por esto que el número óptimo de clusters para usar en estos datos es tres."
   ]
  },
  {
   "cell_type": "markdown",
   "metadata": {},
   "source": [
    "##Clasificación"
   ]
  },
  {
   "cell_type": "code",
   "execution_count": 7,
   "metadata": {
    "collapsed": false
   },
   "outputs": [],
   "source": [
    "km = KMeans(n_clusters = 3)\n",
    "fit = km.fit(X_train, Y_train)\n",
    "predict_km = km.predict(X_test)"
   ]
  },
  {
   "cell_type": "markdown",
   "metadata": {},
   "source": [
    "##Validación de KMeans Clustering"
   ]
  },
  {
   "cell_type": "markdown",
   "metadata": {},
   "source": [
    "Teniendo en cuenta que la predicción de kmeans consiste en agrupar los puntos al cluster más cercano, no se puede hacer una comparación directa entre los labels dados por la función predict() y el target del dataset. Es por esto que para encontrar qué proporción de puntos fue clasificado correctamente se mostrarán gráficas en las que se podrán ver cuántos puntos fueron clasificados de manera incorrecta. De esta forma se determinarán qué número de cluster corresponde a la clase de vino para realizar una comparación apropiada de las clasificaciones."
   ]
  },
  {
   "cell_type": "code",
   "execution_count": 8,
   "metadata": {
    "collapsed": false
   },
   "outputs": [],
   "source": [
    "index_km = Y_test.index.values\n",
    "results_km = pd.concat([Y_test, pd.DataFrame(data =predict_km, index = index_km, columns = [\"Cluster\"])], axis=1)"
   ]
  },
  {
   "cell_type": "code",
   "execution_count": 9,
   "metadata": {
    "collapsed": false
   },
   "outputs": [
    {
     "data": {
      "text/plain": [
       "<matplotlib.text.Text at 0xabcb058c>"
      ]
     },
     "execution_count": 9,
     "metadata": {},
     "output_type": "execute_result"
    },
    {
     "data": {
      "image/png": "[encoded data removed]",
      "text/plain": [
       "<matplotlib.figure.Figure at 0xabde750c>"
      ]
     },
     "metadata": {},
     "output_type": "display_data"
    }
   ],
   "source": [
    "sea.countplot(x= \"Class\", hue = \"Cluster\", data= results_km)\n",
    "title(\"Clasificacion de puntos\")"
   ]
  },
  {
   "cell_type": "markdown",
   "metadata": {},
   "source": [
    "En la gráfica se puede ver cuántos puntos se clasificaron incorrectamente."
   ]
  },
  {
   "cell_type": "code",
   "execution_count": 10,
   "metadata": {
    "collapsed": true
   },
   "outputs": [],
   "source": [
    "grouped_km = results_km.groupby([\"Class\"])\n",
    "class1 = grouped_km.get_group(1)\n",
    "class2 = grouped_km.get_group(2)\n",
    "class3 = grouped_km.get_group(3)"
   ]
  },
  {
   "cell_type": "code",
   "execution_count": 11,
   "metadata": {
    "collapsed": false
   },
   "outputs": [],
   "source": [
    "cluster_label1 = class1['Cluster'].value_counts().idxmax()\n",
    "cluster_label2 = class2['Cluster'].value_counts().idxmax()\n",
    "cluster_label3 = class3['Cluster'].value_counts().idxmax()"
   ]
  },
  {
   "cell_type": "code",
   "execution_count": 12,
   "metadata": {
    "collapsed": false
   },
   "outputs": [
    {
     "name": "stdout",
     "output_type": "stream",
     "text": [
      "Eficiencia KMeans clustering:97.78%\n"
     ]
    }
   ],
   "source": [
    "err_km = 0\n",
    "for i in range(len(class1)):\n",
    "    if class1[\"Cluster\"].iloc[i] != cluster_label1:\n",
    "        err_km += 1\n",
    "for i in range(len(class2)):\n",
    "    if class2[\"Cluster\"].iloc[i] != cluster_label2:\n",
    "        err_km += 1\n",
    "for i in range(len(class3)):\n",
    "    if class3[\"Cluster\"].iloc[i] != cluster_label3:\n",
    "        err_km += 1     \n",
    "eff_km = float(len(predict_km) - err_km)/float(len(predict_km))\n",
    "print(\"Eficiencia KMeans clustering:{0:.2f}%\".format(eff_km*100))"
   ]
  },
  {
   "cell_type": "markdown",
   "metadata": {},
   "source": [
    "#Random Forest"
   ]
  },
  {
   "cell_type": "code",
   "execution_count": 13,
   "metadata": {
    "collapsed": true
   },
   "outputs": [],
   "source": [
    "from sklearn.ensemble import RandomForestClassifier"
   ]
  },
  {
   "cell_type": "markdown",
   "metadata": {},
   "source": [
    "##Optimización de parámetros del modelo"
   ]
  },
  {
   "cell_type": "code",
   "execution_count": 14,
   "metadata": {
    "collapsed": false
   },
   "outputs": [],
   "source": [
    "n_trees_total = 50\n",
    "error_rf = np.zeros(n_trees_total)\n",
    "m = 3 #Se toma como el numero de predictores como sqrt(p)\n",
    "for i in range(1,n_trees_total+1):\n",
    "    rf_test = RandomForestClassifier(n_estimators = n_trees_total, max_features =  m)\n",
    "    fit = rf_test.fit(X_train, Y_train)\n",
    "    error_rf[i-1] = fit.oob_score"
   ]
  },
  {
   "cell_type": "markdown",
   "metadata": {},
   "source": [
    "Para calcular el error en este caso se usa un out of bag estimate."
   ]
  },
  {
   "cell_type": "code",
   "execution_count": 48,
   "metadata": {
    "collapsed": false
   },
   "outputs": [
    {
     "data": {
      "text/plain": [
       "<matplotlib.text.Text at 0xab24a32c>"
      ]
     },
     "execution_count": 48,
     "metadata": {},
     "output_type": "execute_result"
    },
    {
     "data": {
      "image/png": "[encoded data removed]",
      "text/plain": [
       "<matplotlib.figure.Figure at 0xab4d426c>"
      ]
     },
     "metadata": {},
     "output_type": "display_data"
    }
   ],
   "source": [
    "x = linspace(1, n_trees_total+1, n_trees_total)\n",
    "scatter(x, error_rf)\n",
    "title(\"Puntuacion vs. Numero de arboles\")\n",
    "xlabel(\"# de arboles\")\n",
    "ylabel(\"Error\")"
   ]
  },
  {
   "cell_type": "markdown",
   "metadata": {},
   "source": [
    "La gráfica sugiere que el error no va a depender del número de árboles usados en el modelo."
   ]
  },
  {
   "cell_type": "markdown",
   "metadata": {},
   "source": [
    "##Clasificación"
   ]
  },
  {
   "cell_type": "code",
   "execution_count": 16,
   "metadata": {
    "collapsed": true
   },
   "outputs": [],
   "source": [
    "rf = RandomForestClassifier(n_estimators=n_trees_total, max_features=3)\n",
    "fit_rf = rf.fit(X_train, Y_train) \n",
    "predict_rf = rf.predict(X_test)"
   ]
  },
  {
   "cell_type": "markdown",
   "metadata": {
    "collapsed": true
   },
   "source": [
    "##Validación RandomForestClassifier"
   ]
  },
  {
   "cell_type": "code",
   "execution_count": 17,
   "metadata": {
    "collapsed": false
   },
   "outputs": [
    {
     "name": "stdout",
     "output_type": "stream",
     "text": [
      "Eficiencia Random Forest:100.00%\n"
     ]
    }
   ],
   "source": [
    "good_class_rf = 0\n",
    "for i in range(len(predict_rf)):\n",
    "    if predict_rf[i] == Y_test.iloc[i]:\n",
    "        good_class_rf += 1\n",
    "eff_rf = float(good_class_rf)/float(len(predict_rf))\n",
    "print(\"Eficiencia Random Forest:{0:.2f}%\".format(eff_rf*100))"
   ]
  },
  {
   "cell_type": "markdown",
   "metadata": {},
   "source": [
    "#SVM"
   ]
  },
  {
   "cell_type": "code",
   "execution_count": 18,
   "metadata": {
    "collapsed": true
   },
   "outputs": [],
   "source": [
    "from sklearn import svm\n",
    "from sklearn.cross_validation import ShuffleSplit\n",
    "from sklearn.grid_search import GridSearchCV"
   ]
  },
  {
   "cell_type": "markdown",
   "metadata": {},
   "source": [
    "##Optimización de parámetros"
   ]
  },
  {
   "cell_type": "code",
   "execution_count": 19,
   "metadata": {
    "collapsed": false
   },
   "outputs": [
    {
     "data": {
      "text/plain": [
       "GridSearchCV(cv=ShuffleSplit(178, n_iter=10, test_size=0.1, random_state=None),\n",
       "       error_score='raise',\n",
       "       estimator=SVC(C=1.0, cache_size=200, class_weight=None, coef0=0.0,\n",
       "  decision_function_shape=None, degree=3, gamma='auto', kernel='rbf',\n",
       "  max_iter=-1, probability=False, random_state=None, shrinking=True,\n",
       "  tol=0.001, verbose=False),\n",
       "       fit_params={}, iid=True, n_jobs=1,\n",
       "       param_grid={'C': array([  1.,   2.,   3.,   4.,   5.,   6.,   7.,   8.,   9.,  10.]), 'gamma': array([  1.00000e-02,   1.62378e-02,   2.63665e-02,   4.28133e-02,\n",
       "         6.95193e-02,   1.12884e-01,   1.83298e-01,   2.97635e-01,\n",
       "         4.83293e-01,   7.84760e-01,   1.27427e+00,   2.06914e+00,\n",
       "         3.35982e+00,   5.45559e+00,   8.85867e+00,   1.43845e+01,\n",
       "         2.33572e+01,   3.79269e+01,   6.15848e+01,   1.00000e+02])},\n",
       "       pre_dispatch='2*n_jobs', refit=True, scoring=None, verbose=0)"
      ]
     },
     "execution_count": 19,
     "metadata": {},
     "output_type": "execute_result"
    }
   ],
   "source": [
    "gamma_range = logspace(-2, 2, 20)\n",
    "c_range = linspace(1,10,10)\n",
    "param_grid = {'gamma': gamma_range, 'C':c_range}\n",
    "cv = ShuffleSplit(len(target), n_iter=10, test_size=0.1)\n",
    "grid = GridSearchCV(svm.SVC(), param_grid=param_grid, cv=cv)\n",
    "grid.fit(scaled_data,target)"
   ]
  },
  {
   "cell_type": "code",
   "execution_count": 20,
   "metadata": {
    "collapsed": false
   },
   "outputs": [],
   "source": [
    "best_C = grid.best_params_['C']\n",
    "best_gamma = grid.best_params_['gamma']"
   ]
  },
  {
   "cell_type": "markdown",
   "metadata": {},
   "source": [
    "##Clasificación"
   ]
  },
  {
   "cell_type": "code",
   "execution_count": 21,
   "metadata": {
    "collapsed": false
   },
   "outputs": [],
   "source": [
    "svm = svm.SVC(C=best_C, gamma = best_gamma, kernel = 'rbf') \n",
    "fit_svm = svm.fit(X_train, Y_train)\n",
    "predict_svm = svm.predict(X_test)"
   ]
  },
  {
   "cell_type": "markdown",
   "metadata": {},
   "source": [
    "##Validación SVM Classifier"
   ]
  },
  {
   "cell_type": "code",
   "execution_count": 22,
   "metadata": {
    "collapsed": false
   },
   "outputs": [
    {
     "name": "stdout",
     "output_type": "stream",
     "text": [
      "Eficiencia Support Vector Machine Classifier:100.00%\n"
     ]
    }
   ],
   "source": [
    "good_class_svm = 0\n",
    "for i in range(len(predict_svm)):\n",
    "    if predict_svm[i] == Y_test.iloc[i]:\n",
    "        good_class_svm += 1\n",
    "eff_svm = float(good_class_svm)/float(len(predict_svm))\n",
    "print(\"Eficiencia Support Vector Machine Classifier:{0:.2f}%\".format(eff_svm*100))"
   ]
  },
  {
   "cell_type": "markdown",
   "metadata": {},
   "source": [
    "#PCA"
   ]
  },
  {
   "cell_type": "code",
   "execution_count": 23,
   "metadata": {
    "collapsed": true
   },
   "outputs": [],
   "source": [
    "from sklearn.decomposition import PCA"
   ]
  },
  {
   "cell_type": "markdown",
   "metadata": {},
   "source": [
    "##Optimización de parámetros del modelo"
   ]
  },
  {
   "cell_type": "code",
   "execution_count": 45,
   "metadata": {
    "collapsed": false
   },
   "outputs": [
    {
     "data": {
      "text/plain": [
       "<matplotlib.text.Text at 0xab6c148c>"
      ]
     },
     "execution_count": 45,
     "metadata": {},
     "output_type": "execute_result"
    },
    {
     "data": {
      "image/png": "[encoded data removed]",
      "text/plain": [
       "<matplotlib.figure.Figure at 0xab6de32c>"
      ]
     },
     "metadata": {},
     "output_type": "display_data"
    }
   ],
   "source": [
    "fit_PCA_test = PCA().fit(X_train, Y_train)\n",
    "PVE = fit_PCA_test.explained_variance_ratio_\n",
    "scatter(range(1,14),PVE)\n",
    "title(\"PVE vs Componentes\")\n",
    "xlabel(\"Componentes\")\n",
    "ylabel(\"PVE\")"
   ]
  },
  {
   "cell_type": "markdown",
   "metadata": {},
   "source": [
    "En la gráfica se puede ver que a partir de la 4 componente el PVE comienza a saturarse. Es por esto que el número óptimo de componentes para reducir el set de datos es 4."
   ]
  },
  {
   "cell_type": "markdown",
   "metadata": {},
   "source": [
    "##Reducción dimensionalidad usando PCA"
   ]
  },
  {
   "cell_type": "code",
   "execution_count": 35,
   "metadata": {
    "collapsed": true
   },
   "outputs": [],
   "source": [
    "fit_PCA = PCA(n_components = 4)\n",
    "fit_PCA.fit(scaled_data)\n",
    "PCA_result = fit_PCA.transform(scaled_data)"
   ]
  },
  {
   "cell_type": "code",
   "execution_count": 36,
   "metadata": {
    "collapsed": false
   },
   "outputs": [],
   "source": [
    "scaled_PCA = preprocessing.scale(PCA_result)\n",
    "X_train_pca, X_test_pca, Y_train_pca, Y_test_pca = train_test_split(scaled_PCA, target)"
   ]
  },
  {
   "cell_type": "markdown",
   "metadata": {},
   "source": [
    "Es importante anotar que no se puede usar únicamente PCA para clasificación. Es por esto que se usará una reducción de dimensiones usando PCA y después se clasificará usando KMeans clustering y Random Forests"
   ]
  },
  {
   "cell_type": "markdown",
   "metadata": {},
   "source": [
    "##Clasificación usando KMeans clustering y PCA"
   ]
  },
  {
   "cell_type": "code",
   "execution_count": 37,
   "metadata": {
    "collapsed": true
   },
   "outputs": [],
   "source": [
    "km_pca = KMeans(n_clusters = 3)\n",
    "fit_pca_km = km.fit(X_train_pca, Y_train_pca)\n",
    "predict_km_pca = km.predict(X_test_pca)"
   ]
  },
  {
   "cell_type": "markdown",
   "metadata": {},
   "source": [
    "##Validación de PCA con KMeans clustering"
   ]
  },
  {
   "cell_type": "code",
   "execution_count": 38,
   "metadata": {
    "collapsed": false
   },
   "outputs": [],
   "source": [
    "index_km_pca = Y_test_pca.index.values\n",
    "results_km_pca = pd.concat([Y_test_pca, pd.DataFrame(data =predict_km_pca, index = index_km_pca, columns = [\"Cluster\"])], axis=1)"
   ]
  },
  {
   "cell_type": "code",
   "execution_count": 39,
   "metadata": {
    "collapsed": false
   },
   "outputs": [
    {
     "data": {
      "text/plain": [
       "<matplotlib.text.Text at 0xaba7f28c>"
      ]
     },
     "execution_count": 39,
     "metadata": {},
     "output_type": "execute_result"
    },
    {
     "data": {
      "image/png": "[encoded data removed]",
      "text/plain": [
       "<matplotlib.figure.Figure at 0xaba4550c>"
      ]
     },
     "metadata": {},
     "output_type": "display_data"
    }
   ],
   "source": [
    "sea.countplot(x= \"Class\", hue = \"Cluster\", data= results_km_pca)\n",
    "title(\"Clasificacion de puntos\")"
   ]
  },
  {
   "cell_type": "code",
   "execution_count": 40,
   "metadata": {
    "collapsed": false
   },
   "outputs": [],
   "source": [
    "grouped_km_pca = results_km_pca.groupby([\"Class\"])\n",
    "class1_pca = grouped_km_pca.get_group(1)\n",
    "class2_pca = grouped_km_pca.get_group(2)\n",
    "class3_pca = grouped_km_pca.get_group(3)"
   ]
  },
  {
   "cell_type": "code",
   "execution_count": 41,
   "metadata": {
    "collapsed": true
   },
   "outputs": [],
   "source": [
    "pcacluster_label1 = class1_pca['Cluster'].value_counts().idxmax()\n",
    "pcacluster_label2 = class2_pca['Cluster'].value_counts().idxmax()\n",
    "pcacluster_label3 = class3_pca['Cluster'].value_counts().idxmax()"
   ]
  },
  {
   "cell_type": "code",
   "execution_count": 42,
   "metadata": {
    "collapsed": false
   },
   "outputs": [
    {
     "name": "stdout",
     "output_type": "stream",
     "text": [
      "Eficiencia KMeans clustering con PCA:91.11%\n"
     ]
    }
   ],
   "source": [
    "err_km_pca = 0\n",
    "for i in range(len(class1_pca)):\n",
    "    if class1_pca[\"Cluster\"].iloc[i] != pcacluster_label1:\n",
    "        err_km_pca += 1\n",
    "for i in range(len(class2_pca)):\n",
    "    if class2_pca[\"Cluster\"].iloc[i] != pcacluster_label2:\n",
    "        err_km_pca += 1\n",
    "for i in range(len(class3_pca)):\n",
    "    if class3_pca[\"Cluster\"].iloc[i] != pcacluster_label3:\n",
    "        err_km_pca += 1     \n",
    "eff_km_pca = float(len(predict_km_pca) - err_km_pca)/float(len(predict_km_pca))\n",
    "print(\"Eficiencia KMeans clustering con PCA:{0:.2f}%\".format(eff_km_pca*100))"
   ]
  },
  {
   "cell_type": "markdown",
   "metadata": {},
   "source": [
    "##Clasificación usando Random Forest y PCA"
   ]
  },
  {
   "cell_type": "code",
   "execution_count": 43,
   "metadata": {
    "collapsed": true
   },
   "outputs": [],
   "source": [
    "rf_pca = RandomForestClassifier(n_estimators=n_trees_total, max_features=3)\n",
    "fit_rf_pca = rf_pca.fit(X_train, Y_train) \n",
    "predict_rf_pca = rf_pca.predict(X_test)"
   ]
  },
  {
   "cell_type": "markdown",
   "metadata": {},
   "source": [
    "##Validación de Random Forest usando PCA"
   ]
  },
  {
   "cell_type": "code",
   "execution_count": 44,
   "metadata": {
    "collapsed": false
   },
   "outputs": [
    {
     "name": "stdout",
     "output_type": "stream",
     "text": [
      "Eficiencia Random Forest:100.00%\n"
     ]
    }
   ],
   "source": [
    "good_class_rf_pca = 0\n",
    "for i in range(len(predict_rf_pca)):\n",
    "    if predict_rf_pca[i] == Y_test.iloc[i]:\n",
    "        good_class_rf_pca += 1\n",
    "eff_rf_pca = float(good_class_rf_pca)/float(len(predict_rf_pca))\n",
    "print(\"Eficiencia Random Forest:{0:.2f}%\".format(eff_rf_pca*100))"
   ]
  },
  {
   "cell_type": "markdown",
   "metadata": {},
   "source": [
    "#Resultados"
   ]
  },
  {
   "cell_type": "markdown",
   "metadata": {},
   "source": [
    "Los resultados obtenidos para este set de datos son que los mejores modelos de clasificación son SVM Classifier, Random Forest Classifier y Random Forest Classifier con PCA. Estos tres métodos lograron en algunas ocasiones clasificar con éxito todos los puntos del set de prueba. Además, el máximo error que presentaron estos tres modelos fue clasificar de forma errónea un punto. El que le sigue a estos tres modelo es KMeans clustering, ya que nunca logró una clasificación perfecta pero el error nunca sobrepasó los dos puntos clasificados incorrectamente. Por último, el modelo que mostró peor desempeño fue KMeans clustering con PCA, porque en las pruebas realizadas siempre clasificó con éxito menos puntos que los otros cuatro modelos."
   ]
  }
 ],
 "metadata": {
  "kernelspec": {
   "display_name": "Python 2",
   "language": "python",
   "name": "python2"
  },
  "language_info": {
   "codemirror_mode": {
    "name": "ipython",
    "version": 2
   },
   "file_extension": ".py",
   "mimetype": "text/x-python",
   "name": "python",
   "nbconvert_exporter": "python",
   "pygments_lexer": "ipython2",
   "version": "2.7.11"
  }
 },
 "nbformat": 4,
 "nbformat_minor": 0
}
