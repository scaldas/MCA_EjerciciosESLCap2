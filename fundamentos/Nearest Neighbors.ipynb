{
 "cells": [
  {
   "cell_type": "code",
   "execution_count": 1,
   "metadata": {
    "collapsed": false
   },
   "outputs": [
    {
     "name": "stdout",
     "output_type": "stream",
     "text": [
      "Populating the interactive namespace from numpy and matplotlib\n"
     ]
    }
   ],
   "source": [
    "%pylab inline\n",
    "from sklearn import neighbors\n",
    "from matplotlib.colors import ListedColormap"
   ]
  },
  {
   "cell_type": "code",
   "execution_count": 2,
   "metadata": {
    "collapsed": false
   },
   "outputs": [],
   "source": [
    "# Parameters for generated data.\n",
    "blue_mean = [1, 0]\n",
    "orange_mean = [0, 1]\n",
    "cov_matrix = [[1, 0], [0, 1]]"
   ]
  },
  {
   "cell_type": "code",
   "execution_count": 3,
   "metadata": {
    "collapsed": true
   },
   "outputs": [],
   "source": [
    "# Generates training set.\n",
    "training_blue_x, training_blue_y = random.multivariate_normal(blue_mean, cov_matrix, 100).T\n",
    "training_blue_points = column_stack((training_blue_x, training_blue_y))\n",
    "\n",
    "training_orange_x, training_orange_y = random.multivariate_normal(orange_mean, cov_matrix, 100).T\n",
    "training_orange_points = column_stack((training_orange_x, training_orange_y))\n",
    "\n",
    "training_points = concatenate((training_blue_points, training_orange_points))\n",
    "\n",
    "# Generates test set.\n",
    "test_blue_x, test_blue_y = random.multivariate_normal(blue_mean, cov_matrix, 5000).T\n",
    "test_blue_points = column_stack((test_blue_x, test_blue_y))\n",
    "                                \n",
    "test_orange_x, test_orange_y = random.multivariate_normal(orange_mean, cov_matrix, 5000).T\n",
    "test_orange_points = column_stack((test_orange_x, test_orange_y)) \n",
    "                                  \n",
    "test_points = concatenate((test_blue_points, test_orange_points))"
   ]
  },
  {
   "cell_type": "code",
   "execution_count": 4,
   "metadata": {
    "collapsed": false
   },
   "outputs": [
    {
     "data": {
      "text/plain": [
       "<matplotlib.collections.PathCollection at 0x10a6a94e0>"
      ]
     },
     "execution_count": 4,
     "metadata": {},
     "output_type": "execute_result"
    },
    {
     "data": {
      "image/png": "[encoded data removed]",
      "text/plain": [
       "<matplotlib.figure.Figure at 0x10a6a94a8>"
      ]
     },
     "metadata": {},
     "output_type": "display_data"
    }
   ],
   "source": [
    "# Plots training set.\n",
    "scatter(training_blue_x, training_blue_y, color='blue')\n",
    "scatter(training_orange_x, training_orange_y, color='orange')"
   ]
  },
  {
   "cell_type": "code",
   "execution_count": 5,
   "metadata": {
    "collapsed": true
   },
   "outputs": [],
   "source": [
    "# Generates output labels.\n",
    "training_labels = concatenate(\n",
    "    (['blue' for x in range(len(training_blue_x))], ['orange' for x in range(len(training_orange_x))]))\n",
    "training_num_labels = concatenate(\n",
    "    ([0 for x in range(len(training_blue_x))], [1 for x in range(len(training_orange_x))]))\n",
    "\n",
    "test_labels = concatenate(\n",
    "    (['blue' for x in range(len(test_blue_x))], ['orange' for x in range(len(test_orange_x))]))\n",
    "test_num_labels = concatenate(\n",
    "    ([0 for x in range(len(test_blue_x))], [1 for x in range(len(test_orange_x))]))"
   ]
  },
  {
   "cell_type": "code",
   "execution_count": 6,
   "metadata": {
    "collapsed": false
   },
   "outputs": [],
   "source": [
    "# Uses a KNeighborsClassifier classifier with 15 neighbors.\n",
    "n_neighbors = 15\n",
    "knc15 = neighbors.KNeighborsClassifier(n_neighbors, weights=\"uniform\") \n",
    "knc15_model = knc15.fit(training_points, training_num_labels)"
   ]
  },
  {
   "cell_type": "code",
   "execution_count": 7,
   "metadata": {
    "collapsed": false
   },
   "outputs": [
    {
     "data": {
      "text/plain": [
       "<matplotlib.collections.PathCollection at 0x10a7af898>"
      ]
     },
     "execution_count": 7,
     "metadata": {},
     "output_type": "execute_result"
    },
    {
     "data": {
      "image/png": "[encoded data removed]",
      "text/plain": [
       "<matplotlib.figure.Figure at 0x10a816c88>"
      ]
     },
     "metadata": {},
     "output_type": "display_data"
    }
   ],
   "source": [
    "# Plots results of the KNeighborsClassifier classifier with 15 neighbors.\n",
    "\n",
    "# Plots color regions for the predictions.\n",
    "h = .02\n",
    "cmap_light = ListedColormap(['#99bdff', '#ffe4b2'])\n",
    "\n",
    "x_min, x_max = training_points[:, 0].min() - 1, training_points[:, 0].max() + 1\n",
    "y_min, y_max = training_points[:, 1].min() - 1, training_points[:, 1].max() + 1\n",
    "xx, yy = np.meshgrid(arange(x_min, x_max, h), np.arange(y_min, y_max, h))\n",
    "Z = knc15_model.predict(np.c_[xx.ravel(), yy.ravel()])\n",
    "Z = Z.reshape(xx.shape)\n",
    "pcolormesh(xx, yy, Z, cmap=cmap_light)\n",
    "\n",
    "# Plots training set.\n",
    "scatter(training_blue_x, training_blue_y, color='blue')\n",
    "scatter(training_orange_x, training_orange_y, color='orange')"
   ]
  },
  {
   "cell_type": "code",
   "execution_count": 8,
   "metadata": {
    "collapsed": false
   },
   "outputs": [
    {
     "name": "stdout",
     "output_type": "stream",
     "text": [
      "Training Error: 28.00%\n",
      "Test Error: 25.93%\n"
     ]
    }
   ],
   "source": [
    "# Calculates error for the KNeighborsClassifier classifier with 15 neighbors.\n",
    "\n",
    "#For the training set.\n",
    "pred_labels = knc15_model.predict(training_blue_points)\n",
    "wrong_blue = sum([x != 0 for x in pred_labels])\n",
    "\n",
    "pred_labels = knc15_model.predict(training_orange_points)\n",
    "wrong_orange = sum([x != 1 for x in pred_labels])\n",
    "\n",
    "training_error = (wrong_blue+wrong_orange)/(len(training_blue_points)+len(training_orange_points))\n",
    "print('Training Error: {0:.2f}%'.format(training_error*100))\n",
    "\n",
    "#For the test set.\n",
    "pred_labels = knc15_model.predict(test_blue_points)\n",
    "wrong_blue = sum([x != 0 for x in pred_labels])\n",
    "\n",
    "pred_labels = knc15_model.predict(test_orange_points)\n",
    "wrong_orange = sum([x != 1 for x in pred_labels])\n",
    "\n",
    "test_error = (wrong_blue+wrong_orange)/(len(test_blue_points)+len(test_orange_points))\n",
    "print('Test Error: {0:.2f}%'.format(test_error*100))"
   ]
  },
  {
   "cell_type": "code",
   "execution_count": 9,
   "metadata": {
    "collapsed": true
   },
   "outputs": [],
   "source": [
    "# Uses a KNeighborsClassifier classifier with 1 neighbor.\n",
    "n_neighbors = 1\n",
    "knc1 = neighbors.KNeighborsClassifier(n_neighbors, weights=\"uniform\") \n",
    "knc1_model = knc1.fit(training_points, training_num_labels)"
   ]
  },
  {
   "cell_type": "code",
   "execution_count": 10,
   "metadata": {
    "collapsed": false
   },
   "outputs": [
    {
     "data": {
      "text/plain": [
       "<matplotlib.collections.PathCollection at 0x10fff40b8>"
      ]
     },
     "execution_count": 10,
     "metadata": {},
     "output_type": "execute_result"
    },
    {
     "data": {
      "image/png": "[encoded data removed]",
      "text/plain": [
       "<matplotlib.figure.Figure at 0x10a8207f0>"
      ]
     },
     "metadata": {},
     "output_type": "display_data"
    }
   ],
   "source": [
    "# Plots results of the KNeighborsClassifier classifier with 15 neighbors.\n",
    "\n",
    "# Plots color regions for the predictions.\n",
    "h = .02\n",
    "cmap_light = ListedColormap(['#99bdff', '#ffe4b2'])\n",
    "\n",
    "x_min, x_max = training_points[:, 0].min() - 1, training_points[:, 0].max() + 1\n",
    "y_min, y_max = training_points[:, 1].min() - 1, training_points[:, 1].max() + 1\n",
    "xx, yy = np.meshgrid(arange(x_min, x_max, h), np.arange(y_min, y_max, h))\n",
    "Z = knc1_model.predict(np.c_[xx.ravel(), yy.ravel()])\n",
    "Z = Z.reshape(xx.shape)\n",
    "pcolormesh(xx, yy, Z, cmap=cmap_light)\n",
    "\n",
    "# Plots training set.\n",
    "scatter(training_blue_x, training_blue_y, color='blue')\n",
    "scatter(training_orange_x, training_orange_y, color='orange')"
   ]
  },
  {
   "cell_type": "code",
   "execution_count": 11,
   "metadata": {
    "collapsed": false
   },
   "outputs": [
    {
     "name": "stdout",
     "output_type": "stream",
     "text": [
      "Training Error: 0.00%\n",
      "Test Error: 34.39%\n"
     ]
    }
   ],
   "source": [
    "# Calculates error for the KNeighborsClassifier classifier with 15 neighbors.\n",
    "\n",
    "#For the training set.\n",
    "pred_labels = knc1_model.predict(training_blue_points)\n",
    "wrong_blue = sum([x != 0 for x in pred_labels])\n",
    "\n",
    "pred_labels = knc1_model.predict(training_orange_points)\n",
    "wrong_orange = sum([x != 1 for x in pred_labels])\n",
    "\n",
    "training_error = (wrong_blue+wrong_orange)/(len(training_blue_points)+len(training_orange_points))\n",
    "print('Training Error: {0:.2f}%'.format(training_error*100))\n",
    "\n",
    "#For the test set.\n",
    "pred_labels = knc1_model.predict(test_blue_points)\n",
    "wrong_blue = sum([x != 0 for x in pred_labels])\n",
    "\n",
    "pred_labels = knc1_model.predict(test_orange_points)\n",
    "wrong_orange = sum([x != 1 for x in pred_labels])\n",
    "\n",
    "test_error = (wrong_blue+wrong_orange)/(len(test_blue_points)+len(test_orange_points))\n",
    "print('Test Error: {0:.2f}%'.format(test_error*100))"
   ]
  },
  {
   "cell_type": "code",
   "execution_count": null,
   "metadata": {
    "collapsed": true
   },
   "outputs": [],
   "source": []
  }
 ],
 "metadata": {
  "kernelspec": {
   "display_name": "Python 3",
   "language": "python",
   "name": "python3"
  },
  "language_info": {
   "codemirror_mode": {
    "name": "ipython",
    "version": 3
   },
   "file_extension": ".py",
   "mimetype": "text/x-python",
   "name": "python",
   "nbconvert_exporter": "python",
   "pygments_lexer": "ipython3",
   "version": "3.5.1"
  }
 },
 "nbformat": 4,
 "nbformat_minor": 0
}
